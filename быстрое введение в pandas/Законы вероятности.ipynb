{
 "cells": [
  {
   "cell_type": "markdown",
   "metadata": {
    "id": "-ZsbEWeuDvdw"
   },
   "source": [
    "# Законы вероятности\n"
   ]
  },
  {
   "cell_type": "markdown",
   "metadata": {
    "id": "tQgqiUa2Dvd1",
    "tags": []
   },
   "source": [
    "Этот блокнот является частью [Bite Size Bayes](https://allendowney.github.io/BiteSizeBayes/), введения в вероятность и байесовскую статистику с использованием Python.\n",
    "\n",
    "Copyright 2020 Allen B. Downey\n",
    "\n",
    "License: [Attribution-NonCommercial-ShareAlike 4.0 International (CC BY-NC-SA 4.0)](https://creativecommons.org/licenses/by-nc-sa/4.0/)"
   ]
  },
  {
   "cell_type": "markdown",
   "metadata": {},
   "source": [
    "<a href=\"https://t.me/init_python\"><img src=\"https://dfedorov.spb.ru/pandas/logo-telegram.png\" width=\"35\" height=\"35\" alt=\"telegram\" align=\"left\"></a>"
   ]
  },
  {
   "cell_type": "markdown",
   "metadata": {},
   "source": [
    "<a href=\"https://colab.research.google.com/github/dm-fedorov/pandas_basic/blob/master/%D0%B1%D1%8B%D1%81%D1%82%D1%80%D0%BE%D0%B5%20%D0%B2%D0%B2%D0%B5%D0%B4%D0%B5%D0%BD%D0%B8%D0%B5%20%D0%B2%20pandas/%D0%98%D1%81%D1%81%D0%BB%D0%B5%D0%B4%D1%83%D0%B5%D0%BC%20%D0%BE%D1%82%D0%BD%D0%BE%D1%88%D0%B5%D0%BD%D0%B8%D0%B5%20%D0%BC%D0%B5%D0%B6%D0%B4%D1%83%20%D0%BF%D0%B5%D1%80%D0%B5%D0%BC%D0%B5%D0%BD%D0%BD%D1%8B%D0%BC%D0%B8.ipynb\"><img align=\"left\" src=\"https://colab.research.google.com/assets/colab-badge.svg\" alt=\"Open in Colab\" title=\"Open and Execute in Google Colaboratory\" target=\"_blank\"></a>"
   ]
  },
  {
   "cell_type": "markdown",
   "metadata": {
    "id": "Aliho8TUDvd1",
    "tags": []
   },
   "source": [
    "Следующая ячейка загружает файл `utils.py`, содержащий некоторую полезную функцию, которая нам понадобится:"
   ]
  },
  {
   "cell_type": "code",
   "execution_count": 1,
   "metadata": {
    "colab": {
     "base_uri": "https://localhost:8080/"
    },
    "id": "pvM2eQJPDvd2",
    "outputId": "62a4b461-f574-48a6-e2e4-d62924f55577",
    "tags": []
   },
   "outputs": [
    {
     "name": "stdout",
     "output_type": "stream",
     "text": [
      "Downloaded utils.py\n"
     ]
    }
   ],
   "source": [
    "from os.path import basename, exists\n",
    "\n",
    "def download(url):\n",
    "    filename = basename(url)\n",
    "    if not exists(filename):\n",
    "        from urllib.request import urlretrieve\n",
    "        local, _ = urlretrieve(url, filename)\n",
    "        print('Downloaded ' + local)\n",
    "\n",
    "download('https://github.com/AllenDowney/BiteSizeBayes/raw/master/utils.py')"
   ]
  },
  {
   "cell_type": "markdown",
   "metadata": {
    "id": "eJBu8eLZDvd3",
    "tags": []
   },
   "source": [
    "Следующая ячейка загружает файл данных, который мы будем использовать в этом блокноте."
   ]
  },
  {
   "cell_type": "code",
   "execution_count": 2,
   "metadata": {
    "colab": {
     "base_uri": "https://localhost:8080/"
    },
    "id": "b4LroMgjDvd3",
    "outputId": "b2218dd6-4ef9-4efa-bdf1-9f25803e11bd",
    "tags": []
   },
   "outputs": [
    {
     "name": "stdout",
     "output_type": "stream",
     "text": [
      "Downloaded gss_bayes.csv\n"
     ]
    }
   ],
   "source": [
    "download('https://github.com/AllenDowney/BiteSizeBayes/raw/master/gss_bayes.csv')"
   ]
  },
  {
   "cell_type": "markdown",
   "metadata": {
    "id": "9_Jmr_RGDvd3",
    "tags": []
   },
   "source": [
    "Если все установлено, то следующая ячейка должна работать без сообщений об ошибках:"
   ]
  },
  {
   "cell_type": "code",
   "execution_count": 3,
   "metadata": {
    "id": "sKO9N10IDvd3"
   },
   "outputs": [],
   "source": [
    "import pandas as pd\n",
    "import numpy as np\n",
    "\n",
    "from utils import values"
   ]
  },
  {
   "cell_type": "markdown",
   "metadata": {
    "id": "5Ulhx-huDvd4"
   },
   "source": [
    "## Вступление\n",
    "\n",
    "В этом блокноте используется вычислительный подход к пониманию вероятности. Мы будем использовать данные *Общего социального опроса* (General Social Survey), чтобы вычислить вероятность таких предположений, как:\n",
    "\n",
    "* Если я выберу случайного респондента в опросе, какова вероятность, что это будут женщины?\n",
    "\n",
    "* Если я выберу случайного респондента, какова вероятность того, что он будет работать в банковской сфере?\n",
    "\n",
    "Оттуда мы исследуем две взаимосвязанные концепции:\n",
    "\n",
    "* *Конъюнкция*, которая представляет собой вероятность того, что оба утверждения верны; например, какова вероятность выбора женщины-банкира?\n",
    "\n",
    "* *Условная вероятность*, которая представляет собой вероятность того, что одно утверждение верно, при условии, что верно другое; например, учитывая, что респондент - женщина, какова вероятность того, что она банкир?\n",
    "\n",
    "Я выбрал эти примеры, потому что они связаны с известным экспериментом Тверски и Канемана, которые задали следующий вопрос:\n",
    "\n",
    "> Линде 31 год, она незамужняя, искренняя и очень умная. По специальности философ. Будучи студенткой, она глубоко интересовалась проблемами дискриминации и социальной справедливости, а также участвовала в антиядерных демонстрациях. Что *более вероятно*?\n",
    "\n",
    "> 1. Линда - кассир в банке.\n",
    "> 2. Линда - кассир в банке и активный участник феминистского движения.\n",
    "\n",
    "Многие люди выбирают второй ответ, предположительно потому, что он кажется более соответствующим описанию. Кажется маловероятным, что Линда будет просто кассиром в банке; если она кассир в банке, вполне вероятно, что она также будет феминисткой.\n",
    "\n",
    "Но второй ответ не может быть \"более вероятным\", как задается вопрос. Предположим, мы найдем 1000 человек, которые подходят под описание Линды, и 10 из них работают кассирами в банке. \n",
    "\n",
    "Сколько из них тоже феминистки? Максимум, их 10; в этом случае оба варианта *равновероятны*. \n",
    "\n",
    "Скорее всего, только некоторые из них феминистки; в этом случае второй вариант *менее* вероятен. Но не может быть больше 10 из 10, поэтому второй вариант не может быть более вероятным.\n",
    "\n",
    "Ошибка, которую совершают люди, выбирая второй вариант, называется [ошибкой конъюнкции](https://ru.wikipedia.org/wiki/%D0%9E%D1%88%D0%B8%D0%B1%D0%BA%D0%B0_%D0%BA%D0%BE%D0%BD%D1%8A%D1%8E%D0%BD%D0%BA%D1%86%D0%B8%D0%B8) или когнитивным искажением. \n",
    "\n",
    "Это называется [заблуждением](https://ru.wikipedia.org/wiki/%D0%9B%D0%BE%D0%B3%D0%B8%D1%87%D0%B5%D1%81%D0%BA%D0%B0%D1%8F_%D0%BE%D1%88%D0%B8%D0%B1%D0%BA%D0%B0), потому что это логическая ошибка, и \"конъюнкция\", потому что \"кассир в банке И феминистка\" - это [логическая конъюнкция](https://ru.wikipedia.org/wiki/%D0%9A%D0%BE%D0%BD%D1%8A%D1%8E%D0%BD%D0%BA%D1%86%D0%B8%D1%8F).\n",
    "\n",
    "Если этот пример вызывает у вас дискомфорт, значит, вы в хорошей компании. Биолог [Стивен Дж. Гулд писал](https://sci-hub.tw/https://doi.org/10.1080/09332480.1989.10554932):\n",
    "\n",
    "> Мне особенно нравится этот пример, потому что я знаю, что [второе] утверждение наименее вероятно, но маленький [гомункул](https://en.wikipedia.org/wiki/Homunculus_argument) в моей голове продолжает прыгать вверх и вниз, крича на меня, \"но она не может быть просто кассиром в банке; прочитайте описание.\"\n",
    "\n",
    "Если человечек в вашей голове все еще недоволен, возможно, вам поможет этот блокнот."
   ]
  },
  {
   "cell_type": "markdown",
   "metadata": {
    "id": "CsfqUR71Dvd5"
   },
   "source": [
    "## Вероятность\n",
    "\n",
    "Здесь я должен определить вероятность, но это оказывается на удивление [трудным](https://en.wikipedia.org/wiki/Probability_interpretations). Чтобы не увязнуть, прежде чем мы начнем, я начну с простого определения: **вероятность** - это **доля** (fraction) набора данных. \n",
    "\n",
    "Например, если мы опрашиваем 1000 человек, и 20 из них являются кассирами в банке, доля работающих кассирами в банке составляет 0,02 или 2\\%. Если мы выберем человека из этой группы случайным образом, вероятность того, что он будет кассиром в банке, составит 2\\%.\n",
    "\n",
    "Под \"случайным образом\" я подразумеваю, что каждый человек в наборе данных имеет одинаковые шансы быть выбранным, а под \"они\" я подразумеваю [единственное, гендерно-нейтральное местоимение, которое является правильной и полезной особенностью английского языка](https://en.wikipedia.org/wiki/Singular_they).\n",
    "\n",
    "Имея это определение и соответствующий набор данных, мы можем вычислять вероятности путем подсчета. \n",
    "\n",
    "Для демонстрации я буду использовать набор данных из [Общего социального опроса](http://gss.norc.org/) или General Social Survey (GSS). \n",
    "\n",
    "Следующая ячейка читает данные."
   ]
  },
  {
   "cell_type": "code",
   "execution_count": 4,
   "metadata": {
    "id": "9qFC9q_YDvd6"
   },
   "outputs": [],
   "source": [
    "gss = pd.read_csv('gss_bayes.csv', index_col=0)"
   ]
  },
  {
   "cell_type": "markdown",
   "metadata": {
    "id": "VjMcmCVyDvd6"
   },
   "source": [
    "Результатом является фрейм данных pandas с одной строкой для каждого опрошенного человека и одним столбцом для каждой выбранной мной переменной. \n",
    "\n",
    "Вот количество строк и столбцов:"
   ]
  },
  {
   "cell_type": "code",
   "execution_count": 5,
   "metadata": {
    "colab": {
     "base_uri": "https://localhost:8080/"
    },
    "id": "O2t3UZeQDvd6",
    "outputId": "b1f1fbf8-a895-4041-aaf6-1c5faab11470"
   },
   "outputs": [
    {
     "data": {
      "text/plain": [
       "(49290, 6)"
      ]
     },
     "execution_count": 5,
     "metadata": {},
     "output_type": "execute_result"
    }
   ],
   "source": [
    "gss.shape"
   ]
  },
  {
   "cell_type": "markdown",
   "metadata": {
    "id": "PTk1SOAWDvd7"
   },
   "source": [
    "А вот и первые несколько строк:"
   ]
  },
  {
   "cell_type": "code",
   "execution_count": 6,
   "metadata": {
    "colab": {
     "base_uri": "https://localhost:8080/",
     "height": 236
    },
    "id": "mnJYTMUFDvd7",
    "outputId": "1733ab26-b7b1-46b8-d7fb-5bd593ca338d"
   },
   "outputs": [
    {
     "data": {
      "text/html": [
       "<div>\n",
       "<style scoped>\n",
       "    .dataframe tbody tr th:only-of-type {\n",
       "        vertical-align: middle;\n",
       "    }\n",
       "\n",
       "    .dataframe tbody tr th {\n",
       "        vertical-align: top;\n",
       "    }\n",
       "\n",
       "    .dataframe thead th {\n",
       "        text-align: right;\n",
       "    }\n",
       "</style>\n",
       "<table border=\"1\" class=\"dataframe\">\n",
       "  <thead>\n",
       "    <tr style=\"text-align: right;\">\n",
       "      <th></th>\n",
       "      <th>year</th>\n",
       "      <th>age</th>\n",
       "      <th>sex</th>\n",
       "      <th>polviews</th>\n",
       "      <th>partyid</th>\n",
       "      <th>indus10</th>\n",
       "    </tr>\n",
       "    <tr>\n",
       "      <th>caseid</th>\n",
       "      <th></th>\n",
       "      <th></th>\n",
       "      <th></th>\n",
       "      <th></th>\n",
       "      <th></th>\n",
       "      <th></th>\n",
       "    </tr>\n",
       "  </thead>\n",
       "  <tbody>\n",
       "    <tr>\n",
       "      <th>1</th>\n",
       "      <td>1974</td>\n",
       "      <td>21.0</td>\n",
       "      <td>1</td>\n",
       "      <td>4.0</td>\n",
       "      <td>2.0</td>\n",
       "      <td>4970.0</td>\n",
       "    </tr>\n",
       "    <tr>\n",
       "      <th>2</th>\n",
       "      <td>1974</td>\n",
       "      <td>41.0</td>\n",
       "      <td>1</td>\n",
       "      <td>5.0</td>\n",
       "      <td>0.0</td>\n",
       "      <td>9160.0</td>\n",
       "    </tr>\n",
       "    <tr>\n",
       "      <th>5</th>\n",
       "      <td>1974</td>\n",
       "      <td>58.0</td>\n",
       "      <td>2</td>\n",
       "      <td>6.0</td>\n",
       "      <td>1.0</td>\n",
       "      <td>2670.0</td>\n",
       "    </tr>\n",
       "    <tr>\n",
       "      <th>6</th>\n",
       "      <td>1974</td>\n",
       "      <td>30.0</td>\n",
       "      <td>1</td>\n",
       "      <td>5.0</td>\n",
       "      <td>4.0</td>\n",
       "      <td>6870.0</td>\n",
       "    </tr>\n",
       "    <tr>\n",
       "      <th>7</th>\n",
       "      <td>1974</td>\n",
       "      <td>48.0</td>\n",
       "      <td>1</td>\n",
       "      <td>5.0</td>\n",
       "      <td>4.0</td>\n",
       "      <td>7860.0</td>\n",
       "    </tr>\n",
       "  </tbody>\n",
       "</table>\n",
       "</div>"
      ],
      "text/plain": [
       "        year   age  sex  polviews  partyid  indus10\n",
       "caseid                                             \n",
       "1       1974  21.0    1       4.0      2.0   4970.0\n",
       "2       1974  41.0    1       5.0      0.0   9160.0\n",
       "5       1974  58.0    2       6.0      1.0   2670.0\n",
       "6       1974  30.0    1       5.0      4.0   6870.0\n",
       "7       1974  48.0    1       5.0      4.0   7860.0"
      ]
     },
     "execution_count": 6,
     "metadata": {},
     "output_type": "execute_result"
    }
   ],
   "source": [
    "gss.head()"
   ]
  },
  {
   "cell_type": "markdown",
   "metadata": {
    "id": "_BHjLfQ7Dvd8"
   },
   "source": [
    "Столбцы:\n",
    "\n",
    "* `caseid`: идентификатор респондента (который является индексом таблицы),\n",
    "\n",
    "* `year`: год, когда респондент был опрошен,\n",
    "\n",
    "* `age`: возраст респондента на момент опроса,\n",
    "\n",
    "* `sex`: мужской или женский,\n",
    "\n",
    "* `polviews`: диапазон политических взглядов от либеральных до консервативных,\n",
    "\n",
    "* `partyid`: принадлежность к политической партии, демократическая, независимая или республиканская,\n",
    "\n",
    "* `indus10`: [код отрасли](https://www.census.gov/cgi-bin/sssd/naics/naicsrch?chart=2007), в которой работает респондент.\n",
    "\n",
    "Давайте рассмотрим эти переменные более подробно, начиная с `indus10`."
   ]
  },
  {
   "cell_type": "markdown",
   "metadata": {
    "id": "v0r8qbbDDvd8"
   },
   "source": [
    "## Банковское дело \n",
    "\n",
    "Код для \"Банковской и связанной с ней деятельности\" - 6870, поэтому мы можем выбрать таких банкиров:"
   ]
  },
  {
   "cell_type": "code",
   "execution_count": 7,
   "metadata": {
    "id": "N2v4wOL1Dvd8"
   },
   "outputs": [],
   "source": [
    "banker = (gss['indus10'] == 6870)"
   ]
  },
  {
   "cell_type": "markdown",
   "metadata": {
    "id": "gLtDrfQsDvd9"
   },
   "source": [
    "Результатом является логическая серия, которая представляет собой серию pandas, содержащую значения `True` и `False`. \n",
    "\n",
    "Вот несколько первых записей:"
   ]
  },
  {
   "cell_type": "code",
   "execution_count": 8,
   "metadata": {
    "colab": {
     "base_uri": "https://localhost:8080/"
    },
    "id": "jBDuxJc6Dvd9",
    "outputId": "69d1b2cd-f20a-4689-c8b4-de2acb249fdf"
   },
   "outputs": [
    {
     "data": {
      "text/plain": [
       "caseid\n",
       "1    False\n",
       "2    False\n",
       "5    False\n",
       "6     True\n",
       "7    False\n",
       "Name: indus10, dtype: bool"
      ]
     },
     "execution_count": 8,
     "metadata": {},
     "output_type": "execute_result"
    }
   ],
   "source": [
    "banker.head()"
   ]
  },
  {
   "cell_type": "markdown",
   "metadata": {
    "id": "luxQu_9eDvd9"
   },
   "source": [
    "Мы можем использовать `values`, чтобы узнать, сколько раз появляется каждое значение."
   ]
  },
  {
   "cell_type": "code",
   "execution_count": 9,
   "metadata": {
    "colab": {
     "base_uri": "https://localhost:8080/",
     "height": 143
    },
    "id": "CWYtAhCRDvd9",
    "outputId": "9d709ff7-8929-46ff-ff08-42540da7c7ab"
   },
   "outputs": [
    {
     "data": {
      "text/html": [
       "<div>\n",
       "<style scoped>\n",
       "    .dataframe tbody tr th:only-of-type {\n",
       "        vertical-align: middle;\n",
       "    }\n",
       "\n",
       "    .dataframe tbody tr th {\n",
       "        vertical-align: top;\n",
       "    }\n",
       "\n",
       "    .dataframe thead th {\n",
       "        text-align: right;\n",
       "    }\n",
       "</style>\n",
       "<table border=\"1\" class=\"dataframe\">\n",
       "  <thead>\n",
       "    <tr style=\"text-align: right;\">\n",
       "      <th></th>\n",
       "      <th>counts</th>\n",
       "    </tr>\n",
       "    <tr>\n",
       "      <th>values</th>\n",
       "      <th></th>\n",
       "    </tr>\n",
       "  </thead>\n",
       "  <tbody>\n",
       "    <tr>\n",
       "      <th>False</th>\n",
       "      <td>48562</td>\n",
       "    </tr>\n",
       "    <tr>\n",
       "      <th>True</th>\n",
       "      <td>728</td>\n",
       "    </tr>\n",
       "  </tbody>\n",
       "</table>\n",
       "</div>"
      ],
      "text/plain": [
       "        counts\n",
       "values        \n",
       "False    48562\n",
       "True       728"
      ]
     },
     "execution_count": 9,
     "metadata": {},
     "output_type": "execute_result"
    }
   ],
   "source": [
    "values(banker)"
   ]
  },
  {
   "cell_type": "markdown",
   "metadata": {
    "id": "3kVLqqVkDvd9"
   },
   "source": [
    "В этом наборе данных 728 банкиров. \n",
    "\n",
    "Если мы используем функцию `sum` в этой серии, она обрабатывает `True` как 1, а `False` как 0, поэтому общее количество - это количество банкиров."
   ]
  },
  {
   "cell_type": "code",
   "execution_count": 10,
   "metadata": {
    "colab": {
     "base_uri": "https://localhost:8080/"
    },
    "id": "AKP096iyDvd9",
    "outputId": "e16fdb6b-a3c2-4491-abfe-f44d580a6001"
   },
   "outputs": [
    {
     "data": {
      "text/plain": [
       "728"
      ]
     },
     "execution_count": 10,
     "metadata": {},
     "output_type": "execute_result"
    }
   ],
   "source": [
    "banker.sum()"
   ]
  },
  {
   "cell_type": "markdown",
   "metadata": {
    "id": "z2YIvCDkDvd-"
   },
   "source": [
    "Чтобы вычислить *долю* банкиров, мы можем разделить на количество людей в наборе данных:"
   ]
  },
  {
   "cell_type": "code",
   "execution_count": 11,
   "metadata": {
    "colab": {
     "base_uri": "https://localhost:8080/"
    },
    "id": "Jkta77A2Dvd-",
    "outputId": "9fb75e72-9a47-4676-d79f-4546df04c61c"
   },
   "outputs": [
    {
     "data": {
      "text/plain": [
       "0.014769730168391155"
      ]
     },
     "execution_count": 11,
     "metadata": {},
     "output_type": "execute_result"
    }
   ],
   "source": [
    "banker.sum() / banker.size"
   ]
  },
  {
   "cell_type": "markdown",
   "metadata": {
    "id": "0HuiNhyTDvd-"
   },
   "source": [
    "Но мы также можем использовать функцию `mean`, которая вычисляет долю значений `True` в серии:\n"
   ]
  },
  {
   "cell_type": "code",
   "execution_count": 12,
   "metadata": {
    "colab": {
     "base_uri": "https://localhost:8080/"
    },
    "id": "tkMBuFvGDvd-",
    "outputId": "5697f68f-4008-4fd0-9aff-993d9985766d"
   },
   "outputs": [
    {
     "data": {
      "text/plain": [
       "0.014769730168391155"
      ]
     },
     "execution_count": 12,
     "metadata": {},
     "output_type": "execute_result"
    }
   ],
   "source": [
    "banker.mean()"
   ]
  },
  {
   "cell_type": "markdown",
   "metadata": {
    "id": "UOiT8oFTDvd-"
   },
   "source": [
    "Около 1,5% респондентов работают в банковской сфере. Это означает, что если мы выберем случайного человека из набора данных, вероятность того, что он банкир, составляет около 1,5%."
   ]
  },
  {
   "cell_type": "markdown",
   "metadata": {
    "id": "iJ1MFs9kDvd_"
   },
   "source": [
    "**Задание**: Значения `sex` в столбце кодируются следующим образом:\n",
    "\n",
    "```\n",
    "1    Male\n",
    "2    Female\n",
    "```\n",
    "\n",
    "Следующая ячейка создает логическую серию, которая имеет значение `True` для респондентов-женщин и `False` в противном случае."
   ]
  },
  {
   "cell_type": "code",
   "execution_count": 13,
   "metadata": {
    "id": "1eAwx968Dvd_"
   },
   "outputs": [],
   "source": [
    "female = (gss['sex'] == 2)"
   ]
  },
  {
   "cell_type": "markdown",
   "metadata": {
    "id": "tz9jClK8Dvd_"
   },
   "source": [
    "* Используйте `values` для отображения количества `True` и `False` значений у `female`. \n",
    "\n",
    "* Используйте `sum`, чтобы подсчитать количество респондентов-женщин. \n",
    "\n",
    "* Используйте `mean`, чтобы вычислить долю респондентов-женщин.\n"
   ]
  },
  {
   "cell_type": "code",
   "execution_count": 14,
   "metadata": {
    "id": "VUEwny8ADvd_"
   },
   "outputs": [],
   "source": [
    "# Решение здесь"
   ]
  },
  {
   "cell_type": "code",
   "execution_count": 15,
   "metadata": {
    "id": "hngoLtWcDvd_"
   },
   "outputs": [],
   "source": [
    "# Решение здесь"
   ]
  },
  {
   "cell_type": "code",
   "execution_count": 16,
   "metadata": {
    "id": "rs9h5i88Dvd_"
   },
   "outputs": [],
   "source": [
    "# Решение здесь"
   ]
  },
  {
   "cell_type": "markdown",
   "metadata": {
    "id": "aRdpmwc1DveA"
   },
   "source": [
    "Доля женщин в этом наборе данных выше, чем среди взрослого населения США, потому что [GSS не включает людей, находящихся в учреждениях](https://gss.norc.org/faq), включая тюрьмы и армию, и эти группы населения с большей вероятностью будут мужчинами."
   ]
  },
  {
   "cell_type": "markdown",
   "metadata": {
    "id": "1YMLTnGBDveA"
   },
   "source": [
    "**Упражнение:** Разработчики *Общего социального опроса* решили представить пол как двоичную переменную. Какие альтернативы они могли бы рассмотреть? Каковы преимущества и недостатки их выбора?\n",
    "\n",
    "Для получения дополнительной информации по этой теме вам может быть интересна эта статья: Уэстбрук и Саперштейн, [Новых категорий недостаточно: переосмысление измерения пола в социальных опросах](https://sci-hub.tw/10.1177/0891243215584758)"
   ]
  },
  {
   "cell_type": "markdown",
   "metadata": {
    "id": "qKBjMlXHDveA"
   },
   "source": [
    "## Политические взгляды\n",
    "\n",
    "Значения `polviews` оцениваются по семибалльной шкале:\n",
    "\n",
    "```\n",
    "1\tExtremely liberal (Чрезвычайно либеральный)\n",
    "2\tLiberal (Либерал)\n",
    "3\tSlightly liberal (Слегка либеральный)\n",
    "4\tModerate (Умеренный)\n",
    "5\tSlightly conservative (Слегка консервативный)\n",
    "6\tConservative (Консервативный)\n",
    "7\tExtremely conservative (Чрезвычайно консервативный)\n",
    "```\n",
    "\n",
    "Вот количество ответивших:"
   ]
  },
  {
   "cell_type": "code",
   "execution_count": 17,
   "metadata": {
    "colab": {
     "base_uri": "https://localhost:8080/",
     "height": 299
    },
    "id": "ut3RVs1fDveA",
    "outputId": "a8d8c652-1c9f-4eab-b362-6184d6ae454f"
   },
   "outputs": [
    {
     "data": {
      "text/html": [
       "<div>\n",
       "<style scoped>\n",
       "    .dataframe tbody tr th:only-of-type {\n",
       "        vertical-align: middle;\n",
       "    }\n",
       "\n",
       "    .dataframe tbody tr th {\n",
       "        vertical-align: top;\n",
       "    }\n",
       "\n",
       "    .dataframe thead th {\n",
       "        text-align: right;\n",
       "    }\n",
       "</style>\n",
       "<table border=\"1\" class=\"dataframe\">\n",
       "  <thead>\n",
       "    <tr style=\"text-align: right;\">\n",
       "      <th></th>\n",
       "      <th>counts</th>\n",
       "    </tr>\n",
       "    <tr>\n",
       "      <th>values</th>\n",
       "      <th></th>\n",
       "    </tr>\n",
       "  </thead>\n",
       "  <tbody>\n",
       "    <tr>\n",
       "      <th>1.0</th>\n",
       "      <td>1442</td>\n",
       "    </tr>\n",
       "    <tr>\n",
       "      <th>2.0</th>\n",
       "      <td>5808</td>\n",
       "    </tr>\n",
       "    <tr>\n",
       "      <th>3.0</th>\n",
       "      <td>6243</td>\n",
       "    </tr>\n",
       "    <tr>\n",
       "      <th>4.0</th>\n",
       "      <td>18943</td>\n",
       "    </tr>\n",
       "    <tr>\n",
       "      <th>5.0</th>\n",
       "      <td>7940</td>\n",
       "    </tr>\n",
       "    <tr>\n",
       "      <th>6.0</th>\n",
       "      <td>7319</td>\n",
       "    </tr>\n",
       "    <tr>\n",
       "      <th>7.0</th>\n",
       "      <td>1595</td>\n",
       "    </tr>\n",
       "  </tbody>\n",
       "</table>\n",
       "</div>"
      ],
      "text/plain": [
       "        counts\n",
       "values        \n",
       "1.0       1442\n",
       "2.0       5808\n",
       "3.0       6243\n",
       "4.0      18943\n",
       "5.0       7940\n",
       "6.0       7319\n",
       "7.0       1595"
      ]
     },
     "execution_count": 17,
     "metadata": {},
     "output_type": "execute_result"
    }
   ],
   "source": [
    "values(gss['polviews'])"
   ]
  },
  {
   "cell_type": "markdown",
   "metadata": {
    "id": "9xsGlsn3DveA"
   },
   "source": [
    "Я определю `liberal` как `True` для любого, чей ответ \"чрезвычайно либеральный\" (\"Extremely liberal\"), \"либеральный\" (\"Liberal\") или \"слегка либеральный\" (\"Slightly liberal\")."
   ]
  },
  {
   "cell_type": "code",
   "execution_count": 18,
   "metadata": {
    "id": "eOAd8SPxDveB"
   },
   "outputs": [],
   "source": [
    "liberal = (gss['polviews'] < 4)"
   ]
  },
  {
   "cell_type": "markdown",
   "metadata": {
    "id": "5lLJNhwiDveB"
   },
   "source": [
    "Вот количество значений `True` и `False`:"
   ]
  },
  {
   "cell_type": "code",
   "execution_count": 19,
   "metadata": {
    "colab": {
     "base_uri": "https://localhost:8080/",
     "height": 143
    },
    "id": "KAzJztVuDveB",
    "outputId": "ea5a5e09-0403-472e-876a-ba846220d28a"
   },
   "outputs": [
    {
     "data": {
      "text/html": [
       "<div>\n",
       "<style scoped>\n",
       "    .dataframe tbody tr th:only-of-type {\n",
       "        vertical-align: middle;\n",
       "    }\n",
       "\n",
       "    .dataframe tbody tr th {\n",
       "        vertical-align: top;\n",
       "    }\n",
       "\n",
       "    .dataframe thead th {\n",
       "        text-align: right;\n",
       "    }\n",
       "</style>\n",
       "<table border=\"1\" class=\"dataframe\">\n",
       "  <thead>\n",
       "    <tr style=\"text-align: right;\">\n",
       "      <th></th>\n",
       "      <th>counts</th>\n",
       "    </tr>\n",
       "    <tr>\n",
       "      <th>values</th>\n",
       "      <th></th>\n",
       "    </tr>\n",
       "  </thead>\n",
       "  <tbody>\n",
       "    <tr>\n",
       "      <th>False</th>\n",
       "      <td>35797</td>\n",
       "    </tr>\n",
       "    <tr>\n",
       "      <th>True</th>\n",
       "      <td>13493</td>\n",
       "    </tr>\n",
       "  </tbody>\n",
       "</table>\n",
       "</div>"
      ],
      "text/plain": [
       "        counts\n",
       "values        \n",
       "False    35797\n",
       "True     13493"
      ]
     },
     "execution_count": 19,
     "metadata": {},
     "output_type": "execute_result"
    }
   ],
   "source": [
    "values(liberal)"
   ]
  },
  {
   "cell_type": "markdown",
   "metadata": {
    "id": "oOq9kEGvDveB"
   },
   "source": [
    "И доля \"либералов\" (\"liberal\")."
   ]
  },
  {
   "cell_type": "code",
   "execution_count": 20,
   "metadata": {
    "colab": {
     "base_uri": "https://localhost:8080/"
    },
    "id": "-IFHZXPDDveB",
    "outputId": "86720d93-a0bf-44c5-a821-9f5106e5db35"
   },
   "outputs": [
    {
     "data": {
      "text/plain": [
       "0.27374721038750255"
      ]
     },
     "execution_count": 20,
     "metadata": {},
     "output_type": "execute_result"
    }
   ],
   "source": [
    "liberal.mean()"
   ]
  },
  {
   "cell_type": "markdown",
   "metadata": {
    "id": "xh-zsC9JDveB"
   },
   "source": [
    "Если мы выберем случайного человека в этом наборе данных, вероятность его либеральности составит около 27%."
   ]
  },
  {
   "cell_type": "markdown",
   "metadata": {
    "id": "jtxznT6jDveB"
   },
   "source": [
    "## Функция вероятности\n",
    "\n",
    "Подводя итог тому, что мы сделали на данный момент:\n",
    "\n",
    "* Чтобы представить логическое утверждение вроде \"этот респондент придерживается либеральных взглядов\", мы используем логическую серию (Boolean series), которая содержит значения `True` и `False`.\n",
    "\n",
    "* Чтобы вычислить вероятность того, что утверждение истинно, мы используем функцию `mean`, которая вычисляет долю значений `True` в серии.\n",
    "\n",
    "Чтобы сделать это вычисление более явным, я определю функцию, которая принимает логическую серию и возвращает вероятность:"
   ]
  },
  {
   "cell_type": "code",
   "execution_count": 21,
   "metadata": {
    "id": "-yeYqfFODveC"
   },
   "outputs": [],
   "source": [
    "def prob(A):\n",
    "    \"\"\"Computes the probability of a proposition, A.\n",
    "    \n",
    "    A: Boolean series\n",
    "    \n",
    "    returns: probability\n",
    "    \"\"\"\n",
    "    assert isinstance(A, pd.Series)\n",
    "    assert A.dtype == 'bool'\n",
    "    \n",
    "    return A.mean()"
   ]
  },
  {
   "cell_type": "markdown",
   "metadata": {
    "id": "2Yg0D0hXDveC"
   },
   "source": [
    "Операторы `assert` проверяют, является ли `A` логической серией. В противном случае отображается сообщение об ошибке.\n",
    "\n",
    "Использование этой функции для вычисления вероятностей делает код более читабельным. \n",
    "\n",
    "Вот вероятности утверждений, которые мы уже вычислили."
   ]
  },
  {
   "cell_type": "code",
   "execution_count": 22,
   "metadata": {
    "colab": {
     "base_uri": "https://localhost:8080/"
    },
    "id": "uCDgawqEDveC",
    "outputId": "fbf074e7-bee8-482a-8722-5497f66f1977"
   },
   "outputs": [
    {
     "data": {
      "text/plain": [
       "0.014769730168391155"
      ]
     },
     "execution_count": 22,
     "metadata": {},
     "output_type": "execute_result"
    }
   ],
   "source": [
    "prob(banker)"
   ]
  },
  {
   "cell_type": "code",
   "execution_count": 23,
   "metadata": {
    "colab": {
     "base_uri": "https://localhost:8080/"
    },
    "id": "rSwiUhAFDveC",
    "outputId": "41574c87-3e3f-43cc-d61d-bc8465f80cc8"
   },
   "outputs": [
    {
     "data": {
      "text/plain": [
       "0.5378575776019476"
      ]
     },
     "execution_count": 23,
     "metadata": {},
     "output_type": "execute_result"
    }
   ],
   "source": [
    "prob(female)"
   ]
  },
  {
   "cell_type": "code",
   "execution_count": 24,
   "metadata": {
    "colab": {
     "base_uri": "https://localhost:8080/"
    },
    "id": "w2WxCaslDveD",
    "outputId": "1f7b20d1-c046-4065-a849-6b82f9566167"
   },
   "outputs": [
    {
     "data": {
      "text/plain": [
       "0.27374721038750255"
      ]
     },
     "execution_count": 24,
     "metadata": {},
     "output_type": "execute_result"
    }
   ],
   "source": [
    "prob(liberal)"
   ]
  },
  {
   "cell_type": "markdown",
   "metadata": {
    "id": "-5VagAwvDveD"
   },
   "source": [
    "**Упражнение**: значения `partyid` кодируются следующим образом:\n",
    "\n",
    "```\n",
    "0\tStrong democrat (Сильный демократ)\n",
    "1\tNot str democrat (Не строгий демократ)\n",
    "2\tInd,near dem (Независимый, ближе к демократам)\n",
    "3\tIndependent (Независимый)\n",
    "4\tInd,near rep (Независимый, ближе к республиканцам)\n",
    "5\tNot str republican (Не строгий республиканец)\n",
    "6\tStrong republican (Сильный республиканец)\n",
    "7\tOther party (Другая партия)\n",
    "```\n",
    "\n",
    "Я определю `democrat`, чтобы включить респондентов, которые выбрали \"Strong democrat\" или \"Not str democrat\":"
   ]
  },
  {
   "cell_type": "code",
   "execution_count": 25,
   "metadata": {
    "id": "ElvS39ozDveD"
   },
   "outputs": [],
   "source": [
    "democrat = (gss['partyid'] <= 1)"
   ]
  },
  {
   "cell_type": "markdown",
   "metadata": {
    "id": "9vnguxJeDveD"
   },
   "source": [
    "* Используйте `mean`, чтобы вычислить долю демократов в этом наборе данных.\n",
    "\n",
    "* Используйте `prob` для вычисления той же доли (fraction), которую мы будем рассматривать как вероятность."
   ]
  },
  {
   "cell_type": "code",
   "execution_count": 26,
   "metadata": {
    "id": "cFhTJAeGDveD"
   },
   "outputs": [],
   "source": [
    "# Решение здесь"
   ]
  },
  {
   "cell_type": "code",
   "execution_count": 27,
   "metadata": {
    "id": "OvtSNwFEDveD"
   },
   "outputs": [],
   "source": [
    "# Решение здесь"
   ]
  },
  {
   "cell_type": "markdown",
   "metadata": {
    "id": "cuVydUgIDveE"
   },
   "source": [
    "## Конъюнкция\n",
    "\n",
    "Теперь, когда у нас есть определение вероятности и функция, которая ее вычисляет, давайте перейдем к конъюнкции.\n",
    "\n",
    "\"Конъюнкция\" - это еще одно название логической операции `and`. Если у вас есть два утверждления, `A` и `B`, конъюнкция `A and B` будет `True`, если и `A` и `B` равны `True`, и `False` в противном случае.\n",
    "\n",
    "Я продемонстрирую использование двух логических серий, созданных для перечисления каждой комбинации `True` и `False`:"
   ]
  },
  {
   "cell_type": "code",
   "execution_count": 28,
   "metadata": {
    "colab": {
     "base_uri": "https://localhost:8080/"
    },
    "id": "9slh1hWzDveE",
    "outputId": "ff2cb709-23a9-41d1-ac27-653db532f1fe"
   },
   "outputs": [
    {
     "data": {
      "text/plain": [
       "0     True\n",
       "1     True\n",
       "2    False\n",
       "3    False\n",
       "dtype: bool"
      ]
     },
     "execution_count": 28,
     "metadata": {},
     "output_type": "execute_result"
    }
   ],
   "source": [
    "A = pd.Series((True, True, False, False))\n",
    "A"
   ]
  },
  {
   "cell_type": "code",
   "execution_count": 29,
   "metadata": {
    "colab": {
     "base_uri": "https://localhost:8080/"
    },
    "id": "xJS18RYGDveE",
    "outputId": "05d6d33c-92bd-483f-b2bf-ba2357e2b841"
   },
   "outputs": [
    {
     "data": {
      "text/plain": [
       "0     True\n",
       "1    False\n",
       "2     True\n",
       "3    False\n",
       "dtype: bool"
      ]
     },
     "execution_count": 29,
     "metadata": {},
     "output_type": "execute_result"
    }
   ],
   "source": [
    "B = pd.Series((True, False, True, False))\n",
    "B"
   ]
  },
  {
   "cell_type": "markdown",
   "metadata": {
    "id": "LrM66i5oDveE"
   },
   "source": [
    "Чтобы вычислить конъюнкцию `A` и `B`, мы можем использовать оператор `&`, например:"
   ]
  },
  {
   "cell_type": "code",
   "execution_count": 30,
   "metadata": {
    "colab": {
     "base_uri": "https://localhost:8080/"
    },
    "id": "AhGvQMxPDveE",
    "outputId": "edec3fbe-7bf0-4b13-ee91-2a2089ca98e7"
   },
   "outputs": [
    {
     "data": {
      "text/plain": [
       "0     True\n",
       "1    False\n",
       "2    False\n",
       "3    False\n",
       "dtype: bool"
      ]
     },
     "execution_count": 30,
     "metadata": {},
     "output_type": "execute_result"
    }
   ],
   "source": [
    "A & B"
   ]
  },
  {
   "cell_type": "markdown",
   "metadata": {
    "id": "oPBWXmauDveE"
   },
   "source": [
    "Результатом является `True`, только если `A` и `B` равны `True`.\n",
    "\n",
    "Чтобы более наглядно показать эту операцию, я помещу операнды и результат во фрейм данных:"
   ]
  },
  {
   "cell_type": "code",
   "execution_count": 31,
   "metadata": {
    "colab": {
     "base_uri": "https://localhost:8080/",
     "height": 175
    },
    "id": "s7yXrlExDveE",
    "outputId": "53d28ca9-fef3-48f8-e4a4-0e3eea46a86e"
   },
   "outputs": [
    {
     "data": {
      "text/html": [
       "<div>\n",
       "<style scoped>\n",
       "    .dataframe tbody tr th:only-of-type {\n",
       "        vertical-align: middle;\n",
       "    }\n",
       "\n",
       "    .dataframe tbody tr th {\n",
       "        vertical-align: top;\n",
       "    }\n",
       "\n",
       "    .dataframe thead th {\n",
       "        text-align: right;\n",
       "    }\n",
       "</style>\n",
       "<table border=\"1\" class=\"dataframe\">\n",
       "  <thead>\n",
       "    <tr style=\"text-align: right;\">\n",
       "      <th></th>\n",
       "      <th>A</th>\n",
       "      <th>B</th>\n",
       "      <th>A &amp; B</th>\n",
       "    </tr>\n",
       "  </thead>\n",
       "  <tbody>\n",
       "    <tr>\n",
       "      <th>0</th>\n",
       "      <td>True</td>\n",
       "      <td>True</td>\n",
       "      <td>True</td>\n",
       "    </tr>\n",
       "    <tr>\n",
       "      <th>1</th>\n",
       "      <td>True</td>\n",
       "      <td>False</td>\n",
       "      <td>False</td>\n",
       "    </tr>\n",
       "    <tr>\n",
       "      <th>2</th>\n",
       "      <td>False</td>\n",
       "      <td>True</td>\n",
       "      <td>False</td>\n",
       "    </tr>\n",
       "    <tr>\n",
       "      <th>3</th>\n",
       "      <td>False</td>\n",
       "      <td>False</td>\n",
       "      <td>False</td>\n",
       "    </tr>\n",
       "  </tbody>\n",
       "</table>\n",
       "</div>"
      ],
      "text/plain": [
       "       A      B  A & B\n",
       "0   True   True   True\n",
       "1   True  False  False\n",
       "2  False   True  False\n",
       "3  False  False  False"
      ]
     },
     "execution_count": 31,
     "metadata": {},
     "output_type": "execute_result"
    }
   ],
   "source": [
    "table = pd.DataFrame()\n",
    "table['A'] = A\n",
    "table['B'] = B\n",
    "table['A & B'] = A & B\n",
    "table"
   ]
  },
  {
   "cell_type": "markdown",
   "metadata": {
    "id": "7NUzxbYsDveF"
   },
   "source": [
    "Такой способ представления логической операции называется [таблицей истинности](https://ru.wikipedia.org/wiki/%D0%A2%D0%B0%D0%B1%D0%BB%D0%B8%D1%86%D0%B0_%D0%B8%D1%81%D1%82%D0%B8%D0%BD%D0%BD%D0%BE%D1%81%D1%82%D0%B8).\n",
    "\n",
    "В предыдущем разделе мы вычислили вероятность того, что случайный респондент является банкиром:"
   ]
  },
  {
   "cell_type": "code",
   "execution_count": 32,
   "metadata": {
    "colab": {
     "base_uri": "https://localhost:8080/"
    },
    "id": "az2ryKwyDveF",
    "outputId": "9ed4fa17-8700-45b8-e995-e72f6ab39c8d"
   },
   "outputs": [
    {
     "data": {
      "text/plain": [
       "0.014769730168391155"
      ]
     },
     "execution_count": 32,
     "metadata": {},
     "output_type": "execute_result"
    }
   ],
   "source": [
    "prob(banker)"
   ]
  },
  {
   "cell_type": "markdown",
   "metadata": {
    "id": "dsA6pCCoDveF"
   },
   "source": [
    "И вероятность того, что респондент - демократ:"
   ]
  },
  {
   "cell_type": "code",
   "execution_count": 33,
   "metadata": {
    "colab": {
     "base_uri": "https://localhost:8080/"
    },
    "id": "FBLjFoTADveF",
    "outputId": "cf0edf2b-b9db-498f-891b-690000915732"
   },
   "outputs": [
    {
     "data": {
      "text/plain": [
       "0.3662609048488537"
      ]
     },
     "execution_count": 33,
     "metadata": {},
     "output_type": "execute_result"
    }
   ],
   "source": [
    "prob(democrat)"
   ]
  },
  {
   "cell_type": "markdown",
   "metadata": {
    "id": "_8uzfTLmDveF"
   },
   "source": [
    "Теперь мы можем вычислить вероятность того, что случайный респондент - банкир *и* демократ:"
   ]
  },
  {
   "cell_type": "code",
   "execution_count": 34,
   "metadata": {
    "colab": {
     "base_uri": "https://localhost:8080/"
    },
    "id": "EqgCH3awDveF",
    "outputId": "04c64fb7-d125-4517-e77e-0a3324c543c5"
   },
   "outputs": [
    {
     "data": {
      "text/plain": [
       "0.004686548995739501"
      ]
     },
     "execution_count": 34,
     "metadata": {},
     "output_type": "execute_result"
    }
   ],
   "source": [
    "prob(banker & democrat)"
   ]
  },
  {
   "cell_type": "markdown",
   "metadata": {
    "id": "O1VepuUZDveF"
   },
   "source": [
    "Как и следовало ожидать, `prob(banker & democrat)` меньше, чем `prob(banker)`, потому что не все банкиры - демократы."
   ]
  },
  {
   "cell_type": "markdown",
   "metadata": {
    "id": "aBzQAE9dDveF"
   },
   "source": [
    "**Упражнение:** Используйте `prob` и оператор `&` для вычисления следующих вероятностей.\n",
    "\n",
    "* Какова вероятность того, что случайный респондент окажется банкиром и либералом?\n",
    "\n",
    "* Какова вероятность того, что случайный респондент - женщина, банкир или либерал?\n",
    "\n",
    "* Какова вероятность того, что случайным респондентом окажется женщина, банкир и либеральный демократ?\n",
    "\n",
    "Обратите внимание, что чем больше мы добавляем союзов, тем меньше вероятность."
   ]
  },
  {
   "cell_type": "code",
   "execution_count": 35,
   "metadata": {
    "id": "KQkKUvGQDveG"
   },
   "outputs": [],
   "source": [
    "# Решение здесь"
   ]
  },
  {
   "cell_type": "code",
   "execution_count": 36,
   "metadata": {
    "id": "A2CMjvUXDveG"
   },
   "outputs": [],
   "source": [
    "# Решение здесь"
   ]
  },
  {
   "cell_type": "code",
   "execution_count": 37,
   "metadata": {
    "id": "EHVDrNbBDveG"
   },
   "outputs": [],
   "source": [
    "# Решение здесь"
   ]
  },
  {
   "cell_type": "markdown",
   "metadata": {
    "id": "DO6sqSjmDveG"
   },
   "source": [
    "**Упражнение:** Мы ожидаем, что конъюнкция будет коммутативной; то есть `A & B` должно быть таким же, как `B & A`.\n",
    "\n",
    "Чтобы проверить, вычислите эти две вероятности:\n",
    "\n",
    "* Какова вероятность того, что случайный респондент окажется банкиром и либералом?\n",
    "* Какова вероятность того, что случайный респондент будет либералом и банкиром?\n"
   ]
  },
  {
   "cell_type": "code",
   "execution_count": 38,
   "metadata": {
    "colab": {
     "base_uri": "https://localhost:8080/"
    },
    "id": "ikfkpB9rDveG",
    "outputId": "7ee3f859-a396-488e-b61e-cfedd54183e8"
   },
   "outputs": [
    {
     "data": {
      "text/plain": [
       "0.003306958815175492"
      ]
     },
     "execution_count": 38,
     "metadata": {},
     "output_type": "execute_result"
    }
   ],
   "source": [
    "prob(banker & liberal)"
   ]
  },
  {
   "cell_type": "code",
   "execution_count": 39,
   "metadata": {
    "colab": {
     "base_uri": "https://localhost:8080/"
    },
    "id": "sK9jQSJWDveH",
    "outputId": "238ea994-384e-4b74-c4e0-58174694e45c"
   },
   "outputs": [
    {
     "data": {
      "text/plain": [
       "0.003306958815175492"
      ]
     },
     "execution_count": 39,
     "metadata": {},
     "output_type": "execute_result"
    }
   ],
   "source": [
    "prob(liberal & banker)"
   ]
  },
  {
   "cell_type": "markdown",
   "metadata": {
    "id": "GEEQFKnYDveH"
   },
   "source": [
    "Если они не совпадают, что-то пошло не так!"
   ]
  },
  {
   "cell_type": "markdown",
   "metadata": {
    "id": "smHDT418DveI"
   },
   "source": [
    "## Условная вероятность\n",
    "\n",
    "*Условная вероятность* - это вероятность, которая зависит от условия, но это может быть не самое полезное определение. Вот некоторые примеры:\n",
    "\n",
    "* Какова вероятность того, что респондент является демократом, учитывая его либеральность?\n",
    "\n",
    "* Какова вероятность того, что респондент - женщина, учитывая, что это банкир?\n",
    "\n",
    "* Какова вероятность того, что респондент является либералом, учитывая, что она женщина?\n",
    "\n",
    "\n",
    "Начнем с первого пункта, который мы можем интерпретировать так: \"Из всех респондентов, которые являются либералами, какая фракция - демократы?\"\n",
    "\n",
    "Мы можем вычислить эту вероятность в два этапа:\n",
    "\n",
    "1. Выберите всех респондентов-либералов.\n",
    "\n",
    "2. Вычислите долю выбранных респондентов-демократов.\n",
    "\n",
    "Чтобы выбрать либеральных респондентов, мы можем использовать оператор квадратных скобок `[]`, например:"
   ]
  },
  {
   "cell_type": "code",
   "execution_count": 40,
   "metadata": {
    "id": "Z4XjAQotDveI"
   },
   "outputs": [],
   "source": [
    "selected = democrat[liberal]"
   ]
  },
  {
   "cell_type": "markdown",
   "metadata": {
    "id": "Hu7oWHdRDveJ"
   },
   "source": [
    "Результатом является логическая серия, содержащая подмножество значений в `democrat`. В частности, он содержит только те значения, где `liberal` равно `True`.\n",
    "\n",
    "Чтобы убедиться в этом, давайте проверим размерность результата:"
   ]
  },
  {
   "cell_type": "code",
   "execution_count": 41,
   "metadata": {
    "colab": {
     "base_uri": "https://localhost:8080/"
    },
    "id": "sp6pnQs-DveJ",
    "outputId": "1c9ca0f8-13d3-4e15-95f1-0dd960097b00"
   },
   "outputs": [
    {
     "data": {
      "text/plain": [
       "13493"
      ]
     },
     "execution_count": 41,
     "metadata": {},
     "output_type": "execute_result"
    }
   ],
   "source": [
    "len(selected)"
   ]
  },
  {
   "cell_type": "markdown",
   "metadata": {
    "id": "y2IThEq8DveJ"
   },
   "source": [
    "Если все пошло по плану, это должно быть таким же, как количество значений `True` в `liberal`:"
   ]
  },
  {
   "cell_type": "code",
   "execution_count": 42,
   "metadata": {
    "colab": {
     "base_uri": "https://localhost:8080/"
    },
    "id": "l0KN7AHxDveJ",
    "outputId": "873a08ad-f449-43f7-def7-4ba6c3758715"
   },
   "outputs": [
    {
     "data": {
      "text/plain": [
       "13493"
      ]
     },
     "execution_count": 42,
     "metadata": {},
     "output_type": "execute_result"
    }
   ],
   "source": [
    "liberal.sum()"
   ]
  },
  {
   "cell_type": "markdown",
   "metadata": {
    "id": "CiQ6jlNaDveK"
   },
   "source": [
    "Хорошо.\n",
    "\n",
    "`selected` содержит значение `democrat` для респондентов-либералов, поэтому среднее значение `selected` - это доля либералов, которые являются демократами:"
   ]
  },
  {
   "cell_type": "code",
   "execution_count": 43,
   "metadata": {
    "colab": {
     "base_uri": "https://localhost:8080/"
    },
    "id": "1qax7u9XDveK",
    "outputId": "4a0253c5-5435-46f9-efa9-7f2a837de477"
   },
   "outputs": [
    {
     "data": {
      "text/plain": [
       "0.5206403320240125"
      ]
     },
     "execution_count": 43,
     "metadata": {},
     "output_type": "execute_result"
    }
   ],
   "source": [
    "selected.mean()"
   ]
  },
  {
   "cell_type": "markdown",
   "metadata": {
    "id": "8wcxlqVmDveK"
   },
   "source": [
    "Чуть больше половины либералов - демократы. Если результат оказался ниже ожидаемого, имейте в виду:\n",
    "\n",
    "1. Мы использовали несколько строгое определение понятия \"Democrat\", исключая независимых, которые \"склоняются к демократии\".\n",
    "\n",
    "2. Набор данных включает респондентов еще с 1974 г .; в начале этого периода совпадение политических взглядов и партийной принадлежности было меньше, чем в настоящее время."
   ]
  },
  {
   "cell_type": "markdown",
   "metadata": {
    "id": "oy3TET4rDveK"
   },
   "source": [
    "Давайте попробуем второй пример: \"Какова вероятность того, что респондент - женщина, учитывая, что это банкир?\"\n",
    "\n",
    "Мы можем интерпретировать это следующим образом: \"Какая доля из всех респондентов, которые являются банкирами, составляют женщины?\"\n",
    "\n",
    "Опять же, мы будем использовать оператор скобок, чтобы выбрать только банкиров:"
   ]
  },
  {
   "cell_type": "code",
   "execution_count": 44,
   "metadata": {
    "colab": {
     "base_uri": "https://localhost:8080/"
    },
    "id": "kW7r_WmjDveL",
    "outputId": "438f9318-5d31-44a7-ff9f-9ffde4f10cc7"
   },
   "outputs": [
    {
     "data": {
      "text/plain": [
       "728"
      ]
     },
     "execution_count": 44,
     "metadata": {},
     "output_type": "execute_result"
    }
   ],
   "source": [
    "selected = female[banker]\n",
    "len(selected)"
   ]
  },
  {
   "cell_type": "markdown",
   "metadata": {
    "id": "lfBdqD87DveL"
   },
   "source": [
    "Как мы видели, в наборе данных 728 банкиров.\n",
    "\n",
    "Теперь мы можем использовать `mean` для вычисления условной вероятности того, что респондент - женщина, учитывая, что это банкир:"
   ]
  },
  {
   "cell_type": "code",
   "execution_count": 45,
   "metadata": {
    "colab": {
     "base_uri": "https://localhost:8080/"
    },
    "id": "tz0gwksBDveL",
    "outputId": "021b2773-922f-4157-8ef1-dad76be24c1f"
   },
   "outputs": [
    {
     "data": {
      "text/plain": [
       "0.7706043956043956"
      ]
     },
     "execution_count": 45,
     "metadata": {},
     "output_type": "execute_result"
    }
   ],
   "source": [
    "selected.mean()"
   ]
  },
  {
   "cell_type": "markdown",
   "metadata": {
    "id": "knBns1sDDveL"
   },
   "source": [
    "Около 77% банкиров в этом наборе данных - женщины.\n",
    "\n",
    "Мы можем получить тот же результат, используя `prob`:"
   ]
  },
  {
   "cell_type": "code",
   "execution_count": 46,
   "metadata": {
    "colab": {
     "base_uri": "https://localhost:8080/"
    },
    "id": "g7th3VT1DveM",
    "outputId": "cb67480e-6dbb-407f-a615-ede7516324dc"
   },
   "outputs": [
    {
     "data": {
      "text/plain": [
       "0.7706043956043956"
      ]
     },
     "execution_count": 46,
     "metadata": {},
     "output_type": "execute_result"
    }
   ],
   "source": [
    "prob(selected)"
   ]
  },
  {
   "cell_type": "markdown",
   "metadata": {
    "id": "V_qH0zIdDveM"
   },
   "source": [
    "Помните, что мы определили `prob`, чтобы упростить чтение кода. Мы можем сделать то же самое с условной вероятностью.\n",
    "\n",
    "Я определю функцию `conditional`, чтобы взять две логических серии, `A` и `B`, и вычислить условную вероятность `A` с учетом `B`:"
   ]
  },
  {
   "cell_type": "code",
   "execution_count": 47,
   "metadata": {
    "id": "4lcwW8-hDveM"
   },
   "outputs": [],
   "source": [
    "def conditional(A, B):\n",
    "    \"\"\"Conditional probability of A given B.\n",
    "    \n",
    "    A: Boolean series\n",
    "    B: Boolean series\n",
    "    \n",
    "    returns: probability\n",
    "    \"\"\"\n",
    "    return prob(A[B])"
   ]
  },
  {
   "cell_type": "markdown",
   "metadata": {
    "id": "qeYhJ64eDveM"
   },
   "source": [
    "Теперь мы можем использовать `conditional` для вычисления вероятности того, что либерал является демократом:"
   ]
  },
  {
   "cell_type": "code",
   "execution_count": 48,
   "metadata": {
    "colab": {
     "base_uri": "https://localhost:8080/"
    },
    "id": "y-zAKZ_FDveM",
    "outputId": "1b1f27f6-7162-449d-dcad-2fdd86ab013d"
   },
   "outputs": [
    {
     "data": {
      "text/plain": [
       "0.5206403320240125"
      ]
     },
     "execution_count": 48,
     "metadata": {},
     "output_type": "execute_result"
    }
   ],
   "source": [
    "conditional(democrat, liberal)"
   ]
  },
  {
   "cell_type": "markdown",
   "metadata": {
    "id": "jSELm0dZDveM"
   },
   "source": [
    "И вероятность того, что банкир - женщина:"
   ]
  },
  {
   "cell_type": "code",
   "execution_count": 49,
   "metadata": {
    "colab": {
     "base_uri": "https://localhost:8080/"
    },
    "id": "CrxikN8jDveN",
    "outputId": "881b19c3-e5d4-4601-c7f4-243462c87adb"
   },
   "outputs": [
    {
     "data": {
      "text/plain": [
       "0.7706043956043956"
      ]
     },
     "execution_count": 49,
     "metadata": {},
     "output_type": "execute_result"
    }
   ],
   "source": [
    "conditional(female, banker)"
   ]
  },
  {
   "cell_type": "markdown",
   "metadata": {
    "id": "LT0HqFcHDveN"
   },
   "source": [
    "Результаты такие же, как выше."
   ]
  },
  {
   "cell_type": "markdown",
   "metadata": {
    "id": "ruOp-15uDveN"
   },
   "source": [
    "**Упражнение:** Используйте `conditional`, чтобы вычислить вероятность того, что респондент является либералом, учитывая, что он женщина.\n",
    "\n",
    "*Подсказка*: ответ должен быть меньше 30%. Если ваш ответ составляет около 54%, вы допустили ошибку (см. Следующее упражнение).\n"
   ]
  },
  {
   "cell_type": "code",
   "execution_count": 50,
   "metadata": {
    "id": "CppgGQRSDveN"
   },
   "outputs": [],
   "source": [
    "# Решение здесь"
   ]
  },
  {
   "cell_type": "markdown",
   "metadata": {
    "id": "5l3tlLwVDveN"
   },
   "source": [
    "**Упражнение:** В предыдущем упражнении мы видели, что конъюнкция коммутативна; то есть `prob(A & B)` всегда равно `prob(B & A)`.\n",
    "\n",
    "Но условная вероятность НЕ коммутативна; то есть `conditional(A, B)` не то же самое, что `conditional(B, A)`.\n",
    "\n",
    "Это должно быть ясно, если посмотрим на пример. Ранее мы вычисляли вероятность того, что респондент - женщина, учитывая, что это банкир."
   ]
  },
  {
   "cell_type": "code",
   "execution_count": 51,
   "metadata": {
    "colab": {
     "base_uri": "https://localhost:8080/"
    },
    "id": "MvAf5RqnDveN",
    "outputId": "264146d9-3128-4035-deaf-3b926917c0a7"
   },
   "outputs": [
    {
     "data": {
      "text/plain": [
       "0.7706043956043956"
      ]
     },
     "execution_count": 51,
     "metadata": {},
     "output_type": "execute_result"
    }
   ],
   "source": [
    "conditional(female, banker)"
   ]
  },
  {
   "cell_type": "markdown",
   "metadata": {
    "id": "QMMVp9y0DveO"
   },
   "source": [
    "Результат показывает, что большинство банкиров - женщины. Это не то же самое, что вероятность того, что респондент - банкир, учитывая, что она женщина:"
   ]
  },
  {
   "cell_type": "code",
   "execution_count": 52,
   "metadata": {
    "colab": {
     "base_uri": "https://localhost:8080/"
    },
    "id": "v0FHU0UyDveO",
    "outputId": "9e7e0dea-a0f2-489a-8253-7c3bca9153e5"
   },
   "outputs": [
    {
     "data": {
      "text/plain": [
       "0.02116102749801969"
      ]
     },
     "execution_count": 52,
     "metadata": {},
     "output_type": "execute_result"
    }
   ],
   "source": [
    "conditional(banker, female)"
   ]
  },
  {
   "cell_type": "markdown",
   "metadata": {
    "id": "ruyoKefLDveO"
   },
   "source": [
    "Лишь около 2% респондентов-женщин - банкиры."
   ]
  },
  {
   "cell_type": "markdown",
   "metadata": {
    "id": "JLRK5gXRDveO"
   },
   "source": [
    "**Упражнение:** Используйте `conditional` для вычисления следующих вероятностей:\n",
    "\n",
    "* Какова вероятность того, что респондент является либералом, учитывая, что он демократ?\n",
    "\n",
    "* Какова вероятность того, что респондент является демократом, учитывая его либеральность?\n",
    "\n",
    "Тщательно продумайте порядок серий, которые вы передадите в `conditional`."
   ]
  },
  {
   "cell_type": "code",
   "execution_count": 53,
   "metadata": {
    "colab": {
     "base_uri": "https://localhost:8080/"
    },
    "id": "oXru4hEeDveO",
    "outputId": "ad42dd0d-f671-439d-ecdc-a0a43f85f3af"
   },
   "outputs": [
    {
     "data": {
      "text/plain": [
       "0.3891320002215698"
      ]
     },
     "execution_count": 53,
     "metadata": {},
     "output_type": "execute_result"
    }
   ],
   "source": [
    "conditional(liberal, democrat)"
   ]
  },
  {
   "cell_type": "code",
   "execution_count": 54,
   "metadata": {
    "colab": {
     "base_uri": "https://localhost:8080/"
    },
    "id": "J_iYvJlRDveO",
    "outputId": "41b7a66e-9b8c-4b98-9e44-0eff1126381e"
   },
   "outputs": [
    {
     "data": {
      "text/plain": [
       "0.5206403320240125"
      ]
     },
     "execution_count": 54,
     "metadata": {},
     "output_type": "execute_result"
    }
   ],
   "source": [
    "conditional(democrat, liberal)"
   ]
  },
  {
   "cell_type": "markdown",
   "metadata": {
    "id": "q5S8rfgrDveO"
   },
   "source": [
    "## Условия и конъюнкции\n",
    "\n",
    "Мы можем комбинировать условную вероятность и конъюнкцию. Например, вот вероятность того, что респондент - женщина, учитывая, что это либеральный демократ."
   ]
  },
  {
   "cell_type": "code",
   "execution_count": 55,
   "metadata": {
    "colab": {
     "base_uri": "https://localhost:8080/"
    },
    "id": "WRN1K42yDveP",
    "outputId": "58999769-6232-436f-e126-3096c4b1e5bc"
   },
   "outputs": [
    {
     "data": {
      "text/plain": [
       "0.576085409252669"
      ]
     },
     "execution_count": 55,
     "metadata": {},
     "output_type": "execute_result"
    }
   ],
   "source": [
    "conditional(female, liberal & democrat)"
   ]
  },
  {
   "cell_type": "markdown",
   "metadata": {
    "id": "Rrkm4xASDveP"
   },
   "source": [
    "Почти 57% либерал-демократов - женщины.\n",
    "\n",
    "И вот вероятность того, что они либеральные женщины, учитывая, что это банкир:"
   ]
  },
  {
   "cell_type": "code",
   "execution_count": 56,
   "metadata": {
    "colab": {
     "base_uri": "https://localhost:8080/"
    },
    "id": "mWABnPXdDveP",
    "outputId": "2b16a5b8-0929-450e-93de-46e43dc602d0"
   },
   "outputs": [
    {
     "data": {
      "text/plain": [
       "0.17307692307692307"
      ]
     },
     "execution_count": 56,
     "metadata": {},
     "output_type": "execute_result"
    }
   ],
   "source": [
    "conditional(liberal & female, banker)"
   ]
  },
  {
   "cell_type": "markdown",
   "metadata": {
    "id": "z4LawQoYDveP"
   },
   "source": [
    "Около 17% банкиров - либеральные женщины."
   ]
  },
  {
   "cell_type": "markdown",
   "metadata": {
    "id": "GptVsK1PDveP"
   },
   "source": [
    "**Упражнение:** Какая часть женщин-банкиров принадлежит к либеральным демократам?\n",
    "\n",
    "*Подсказка*: если ваш ответ меньше 1%, значит, вы получили его наоборот. Помните, что условная вероятность не коммутативна."
   ]
  },
  {
   "cell_type": "code",
   "execution_count": 57,
   "metadata": {
    "id": "ma6z0aXmDveQ"
   },
   "outputs": [],
   "source": [
    "# Решение здесь"
   ]
  },
  {
   "cell_type": "markdown",
   "metadata": {
    "id": "a-ArUna-DveQ"
   },
   "source": [
    "## Резюме\n",
    "\n",
    "На этом этапе вы должны понять определение вероятности, по крайней мере, в простом случае, когда у нас есть конечный набор данных. Позже мы рассмотрим случаи, когда определение вероятности более спорно.\n",
    "\n",
    "И вы должны понимать конъюнкцию и условную вероятность. В следующих блокнотах мы исследуем взаимосвязь между конъюнкцией и условной вероятностью и используем ее для получения Теорема Байеса, лежащая в основе байесовской статистики."
   ]
  },
  {
   "cell_type": "markdown",
   "metadata": {
    "id": "C5EAEn4SDveQ"
   },
   "source": [
    "<a href=\"https://t.me/init_python\"><img src=\"https://dfedorov.spb.ru/pandas/logo-telegram.png\" width=\"35\" height=\"35\" alt=\"telegram\" align=\"left\"></a>"
   ]
  }
 ],
 "metadata": {
  "celltoolbar": "Tags",
  "colab": {
   "collapsed_sections": [],
   "name": "Перевод \"01_linda.ipynb\"\"",
   "provenance": []
  },
  "kernelspec": {
   "display_name": "Python 3",
   "language": "python",
   "name": "python3"
  },
  "language_info": {
   "codemirror_mode": {
    "name": "ipython",
    "version": 3
   },
   "file_extension": ".py",
   "mimetype": "text/x-python",
   "name": "python",
   "nbconvert_exporter": "python",
   "pygments_lexer": "ipython3",
   "version": "3.8.2"
  }
 },
 "nbformat": 4,
 "nbformat_minor": 4
}
