{
 "cells": [
  {
   "cell_type": "markdown",
   "metadata": {
    "id": "f_PCecIHDyGD"
   },
   "source": [
    "# Проблема с печеньками"
   ]
  },
  {
   "cell_type": "markdown",
   "metadata": {
    "id": "As_PbOiZDyGF",
    "tags": []
   },
   "source": [
    "Этот блокнот является частью [Bite Size Bayes](https://allendowney.github.io/BiteSizeBayes/), введения в вероятность и байесовскую статистику с использованием Python.\n",
    "\n",
    "Copyright 2020 Allen B. Downey\n",
    "\n",
    "License: [Attribution-NonCommercial-ShareAlike 4.0 International (CC BY-NC-SA 4.0)](https://creativecommons.org/licenses/by-nc-sa/4.0/)"
   ]
  },
  {
   "cell_type": "markdown",
   "metadata": {},
   "source": [
    "<a href=\"https://t.me/init_python\"><img src=\"https://dfedorov.spb.ru/pandas/logo-telegram.png\" width=\"35\" height=\"35\" alt=\"telegram\" align=\"left\"></a>"
   ]
  },
  {
   "cell_type": "markdown",
   "metadata": {},
   "source": [
    "<a href=\"https://colab.research.google.com/github/dm-fedorov/pandas_basic/blob/master/быстрое%20введение%20в%20pandas/Законы%20вероятности.ipynb\"><img align=\"left\" src=\"https://colab.research.google.com/assets/colab-badge.svg\" alt=\"Open in Colab\" title=\"Open and Execute in Google Colaboratory\" target=\"_blank\"></a>"
   ]
  },
  {
   "cell_type": "markdown",
   "metadata": {
    "id": "8ZzjRJV-DyGG",
    "tags": []
   },
   "source": [
    "Следующая ячейка загружает файл `utils.py`, содержащий некоторую полезную функцию, которая нам понадобится:"
   ]
  },
  {
   "cell_type": "code",
   "execution_count": 1,
   "metadata": {
    "colab": {
     "base_uri": "https://localhost:8080/"
    },
    "id": "QT9LXyDTDyGG",
    "outputId": "4c427d82-5563-453d-b996-0d5273a402e1",
    "tags": []
   },
   "outputs": [],
   "source": [
    "from os.path import basename, exists\n",
    "\n",
    "def download(url):\n",
    "    filename = basename(url)\n",
    "    if not exists(filename):\n",
    "        from urllib.request import urlretrieve\n",
    "        local, _ = urlretrieve(url, filename)\n",
    "        print('Downloaded ' + local)\n",
    "\n",
    "download('https://github.com/AllenDowney/BiteSizeBayes/raw/master/utils.py')"
   ]
  },
  {
   "cell_type": "markdown",
   "metadata": {
    "id": "gzs6XARcDyGH",
    "tags": []
   },
   "source": [
    "Если все, что нам нужно, установлено, следующая ячейка должна работать без ошибок:"
   ]
  },
  {
   "cell_type": "code",
   "execution_count": 2,
   "metadata": {
    "id": "u2LG9Hg0DyGH"
   },
   "outputs": [],
   "source": [
    "import pandas as pd\n",
    "import numpy as np\n",
    "\n",
    "from utils import values"
   ]
  },
  {
   "cell_type": "markdown",
   "metadata": {
    "id": "qmx4JHacDyGH"
   },
   "source": [
    "## Обзор\n",
    "\n",
    "В предыдущем блокноте я представил и доказал (вроде как) три теоремы вероятности:\n",
    "\n",
    "**Теорема 1** дает нам новый способ вычисления условной вероятности с помощью конъюнкции:\n",
    "\n",
    "$P(A|B) = \\frac{P(A~\\mathrm{and}~B)}{P(B)}$ \n",
    "\n",
    "**Теорема 2** дает нам новый способ вычисления конъюнкции с использованием условной вероятности:\n",
    "\n",
    "$P(A~\\mathrm{and}~B) = P(B) P(A|B)$\n",
    "\n",
    "**Теорема 3**, также известная как теорема Байеса, дает нам способ перейти от $P(A|B)$ к $P(B|A)$ или наоборот:\n",
    "\n",
    "$P(A|B) = \\frac{P(A) P(B|A)}{P(B)}$\n"
   ]
  },
  {
   "cell_type": "markdown",
   "metadata": {
    "id": "Ai9fdzHmDyGI"
   },
   "source": [
    "В примерах, которые мы видели до сих пор, эти теоремы нам действительно не нужны, потому что, когда у вас есть все данные, вы можете вычислить любую вероятность, какую хотите, любую конъюнкцию или любую условную вероятность, простым подсчетом.\n",
    "\n",
    "Начиная с этого блокнота, мы рассмотрим примеры, в которых у нас нет всех данных, и увидим, что эти теоремы полезны, особенно теорема 3."
   ]
  },
  {
   "cell_type": "markdown",
   "metadata": {
    "id": "ij1NxoGhDyGI"
   },
   "source": [
    "## Теорема Байеса\n",
    "\n",
    "Есть два способа думать о теореме Байеса:\n",
    "\n",
    "* Это стратегия \"разделяй и властвуй\" для вычисления условных вероятностей. Если сложно вычислить $P(A|B)$ напрямую, иногда проще вычислить условия с другой стороны уравнения: $P(A)$, $P(B|A)$ и $P(B)$.\n",
    "\n",
    "* Это также способ обновления убеждений в свете новых данных.\n",
    "\n",
    "Когда мы работаем со второй интерпретацией, мы часто записываем теорему Байеса с разными переменными. Вместо $A$ и $B$ мы используем $H$ и $D$, где\n",
    "\n",
    "* $H$ означает \"гипотеза\", а\n",
    "\n",
    "* $D$ означает \"данные\".\n",
    "\n",
    "Итак, запишем теорему Байеса:\n",
    "\n",
    "$P(H|D) = P(H) ~ P(D|H) ~/~ P(D)$"
   ]
  },
  {
   "cell_type": "markdown",
   "metadata": {
    "id": "e_UzqWlfDyGJ"
   },
   "source": [
    "В этом контексте у каждого термина есть имя:\n",
    "\n",
    "* $P(H)$ - это *\"априорная вероятность\"* гипотезы, которая показывает, насколько вы уверены, что $H$ истинно до просмотра данных,\n",
    "\n",
    "* $P(D|H) $ - это *\"правдоподобие\" данных*, то есть вероятность увидеть $D$, если гипотеза верна,\n",
    "\n",
    "* $P(D)$ - это *\"полная вероятность данных\"* (нормализует вероятность), то есть шанс увидеть $D$ независимо от того, является ли $H$ истинным или нет,\n",
    "\n",
    "* $P(H|D)$ - это \"апостериорная вероятность\" гипотезы, которая показывает, насколько вы должны быть уверены в том, что $H$ истинно после учета данных.\n",
    "\n",
    "Пример это прояснит."
   ]
  },
  {
   "cell_type": "markdown",
   "metadata": {
    "id": "C6PuxMmUDyGK"
   },
   "source": [
    "## Проблема с печеньками\n",
    "\n",
    "Вот проблема, которую я давным-давно узнал из Википедии, но теперь ее отредактировали.\n",
    "\n",
    "> Предположим, у вас есть две миски с печеньем. Первая миска содержит 30 ванильных и 10 шоколадных печений. Во второй миске по 20 штук каждого вида.\n",
    ">\n",
    "> Вы наугад выбираете одну из мисок и, не глядя в миску, выбираете наугад одно из печений. Получается ванильное печенье.\n",
    ">\n",
    "> Каков шанс, что вы выбрали первую миску?\n",
    "\n",
    "Предположим, что был равный шанс выбрать любую миску и равный шанс выбрать любое печенье в миске."
   ]
  },
  {
   "cell_type": "markdown",
   "metadata": {
    "id": "GGItEj6VDyGK"
   },
   "source": [
    "Мы можем решить эту проблему, используя теорему Байеса. \n",
    "\n",
    "Сначала я определю $H$ и $D$:\n",
    "\n",
    "* $H$ - это гипотеза, что вы выбрали первую миску,\n",
    "\n",
    "* $D$ - это исходная информация о том, что печенька является ванильной.\n",
    "\n",
    "Нам нужна апостериорная вероятность $H$, которая равна $P(H|D)$. Не очевидно, как вычислить ее напрямую, но если мы сможем вычислить условия в правой части теоремы Байеса, то сможем добраться до нее косвенно."
   ]
  },
  {
   "cell_type": "markdown",
   "metadata": {
    "id": "mSlYBen-DyGK"
   },
   "source": [
    "1. $P(H)$ - это априорная вероятность $H$, которая представляет собой вероятность выбора первой миски до того, как мы увидим данные. Если есть равные шансы выбрать любую миску, $P(H)$ будет $1/2$.\n",
    "\n",
    "2. $ P(D|H)$ - это правдоподобие данных, то есть вероятность получения ванильной печеньки, если значение $H$ истинно, другими словами, вероятность получения ванильной печеньки из первой миски, т.е. $30/40$ или $3/4$.\n",
    "\n",
    "3. $P(D)$ - это полная вероятность данных, которая представляет собой шанс получить ванильную печеньку независимо от того, является ли $H$ истинной или нет. В этом примере мы можем вычислить $P(D)$ напрямую: поскольку миски одинаково вероятны и содержат одинаковое количество печений, вы с одинаковой вероятностью выберете любую печеньку. Объединяя две миски, получается 50 ванильных и 30 шоколадных печений, поэтому вероятность выбора ванильного печенья составляет $50/80$ или $5/8$.\n",
    "\n",
    "Теперь, когда у нас есть условия в правой части, мы можем использовать теорему Байеса, чтобы объединить их:"
   ]
  },
  {
   "cell_type": "code",
   "execution_count": 3,
   "metadata": {
    "colab": {
     "base_uri": "https://localhost:8080/"
    },
    "id": "aibQaGBqDyGL",
    "outputId": "f5983cad-a935-4915-e20e-065fb2abaa44"
   },
   "outputs": [
    {
     "data": {
      "text/plain": [
       "0.5"
      ]
     },
     "execution_count": 3,
     "metadata": {},
     "output_type": "execute_result"
    }
   ],
   "source": [
    "prior = 1/2\n",
    "prior"
   ]
  },
  {
   "cell_type": "code",
   "execution_count": 4,
   "metadata": {
    "colab": {
     "base_uri": "https://localhost:8080/"
    },
    "id": "NQYMWpE6DyGL",
    "outputId": "ecf4d007-8a01-44ff-e372-b2e89a69ab74"
   },
   "outputs": [
    {
     "data": {
      "text/plain": [
       "0.75"
      ]
     },
     "execution_count": 4,
     "metadata": {},
     "output_type": "execute_result"
    }
   ],
   "source": [
    "likelihood = 3/4\n",
    "likelihood"
   ]
  },
  {
   "cell_type": "code",
   "execution_count": 5,
   "metadata": {
    "colab": {
     "base_uri": "https://localhost:8080/"
    },
    "id": "xhrICIG-DyGM",
    "outputId": "853a60e6-7b95-4ef3-97f6-cd25fe680a1d"
   },
   "outputs": [
    {
     "data": {
      "text/plain": [
       "0.625"
      ]
     },
     "execution_count": 5,
     "metadata": {},
     "output_type": "execute_result"
    }
   ],
   "source": [
    "prob_data = 5/8\n",
    "prob_data"
   ]
  },
  {
   "cell_type": "code",
   "execution_count": 6,
   "metadata": {
    "colab": {
     "base_uri": "https://localhost:8080/"
    },
    "id": "byoMwNX-DyGM",
    "outputId": "1cb8acc2-8312-4815-bf91-7a02e029c6d5"
   },
   "outputs": [
    {
     "data": {
      "text/plain": [
       "0.6"
      ]
     },
     "execution_count": 6,
     "metadata": {},
     "output_type": "execute_result"
    }
   ],
   "source": [
    "posterior = prior * likelihood / prob_data\n",
    "posterior"
   ]
  },
  {
   "cell_type": "markdown",
   "metadata": {
    "id": "g13jL1WyDyGM"
   },
   "source": [
    "Апостериорная вероятность составляет $0.6$, что немного выше, чем предыдущая, которая составляла $0.5$.\n",
    "\n",
    "Таким образом, ванильное печенье дает нам больше уверенности в том, что мы выбрали первую миску."
   ]
  },
  {
   "cell_type": "markdown",
   "metadata": {
    "id": "sau8WtY7DyGM"
   },
   "source": [
    "**Упражнение:** Что, если бы вместо этого мы выбрали шоколадное печенье; какова будет апостериорная вероятность первой миски?"
   ]
  },
  {
   "cell_type": "code",
   "execution_count": 7,
   "metadata": {
    "id": "2YfQUkAfDyGM"
   },
   "outputs": [],
   "source": [
    "# Решение здесь"
   ]
  },
  {
   "cell_type": "markdown",
   "metadata": {
    "id": "7ee8MOdtDyGM"
   },
   "source": [
    "## Доказательство\n",
    "\n",
    "В предыдущем примере и упражнении обратите внимание на закономерность:\n",
    "\n",
    "* Ванильное печенье более вероятно, если мы выберем первую миску, поэтому получение ванильного печенья делает первую миску более вероятной.\n",
    "\n",
    "* Шоколадное печенье будет менее вероятным, если мы выберем первую миску, поэтому получение шоколадного печенья сделает первую миску менее вероятной.\n",
    "\n",
    "Если данные повышают вероятность гипотезы, мы говорим, что это \"свидетельство в пользу\" гипотезы.\n",
    "\n",
    "Если данные снижают вероятность гипотезы, это \"свидетельство против\" гипотезы."
   ]
  },
  {
   "cell_type": "markdown",
   "metadata": {},
   "source": [
    "Приведем еще один пример:\n",
    "\n",
    "> Предположим, у вас в коробке две монеты. Одна - обычная монета с орлами на одной стороне и решками с другой, а другая - хитрая с орлами с обеих сторон.\n",
    ">\n",
    "> Вы выбираете монету наугад и видите, что одна из сторон - орел. Являются ли эти данные свидетельством в пользу или против гипотезы о том, что вы выбрали хитрую монету?\n",
    "\n",
    "Посмотрите, сможете ли вы найти ответ, прежде чем читать мое решение. Предлагаю следующие шаги:\n",
    "\n",
    "1. Во-первых, четко сформулируйте гипотезу и данные.\n",
    "\n",
    "2. Затем подумайте об априорности, правдоподобии и общей вероятности данных.\n",
    "\n",
    "3. Примените теорему Байеса, чтобы вычислить апостериорную вероятность гипотезы.\n",
    "\n",
    "4. Используйте результат, чтобы ответить на поставленный вопрос."
   ]
  },
  {
   "cell_type": "markdown",
   "metadata": {
    "id": "gEgTpf0mDyGN"
   },
   "source": [
    "В этом примере:\n",
    "\n",
    "* $H$ - это гипотеза о том, что вы выбрали хитрую монету с двумя орлами.\n",
    "\n",
    "* $D$ - это наблюдение, что одна сторона медали - орел.\n",
    "\n",
    "Теперь давайте подумаем о правосторонних условиях:\n",
    "\n",
    "* Априорная вероятность - 1/2, потому что мы с равной вероятностью выберем любую монету.\n",
    "\n",
    "* Правдоподобие данных равно 1, потому что, если мы выберем хитрую монету, то обязательно увидим орла.\n",
    "\n",
    "* Полная вероятность данных составляет 3/4, потому что 3 из 4 сторон являются орлами, и мы с равной вероятностью увидим любую из них.\n",
    "\n",
    "Вот что мы получим, если применим теорему Байеса:"
   ]
  },
  {
   "cell_type": "code",
   "execution_count": 8,
   "metadata": {
    "colab": {
     "base_uri": "https://localhost:8080/"
    },
    "id": "dR45YLVrDyGN",
    "outputId": "8f2a5bd2-4370-4bde-e182-1a2144edeaac"
   },
   "outputs": [
    {
     "data": {
      "text/plain": [
       "0.6666666666666666"
      ]
     },
     "execution_count": 8,
     "metadata": {},
     "output_type": "execute_result"
    }
   ],
   "source": [
    "prior = 1/2\n",
    "likelihood = 1\n",
    "prob_data = 3/4\n",
    "\n",
    "posterior = prior * likelihood / prob_data\n",
    "posterior"
   ]
  },
  {
   "cell_type": "markdown",
   "metadata": {},
   "source": [
    "Апостериорная величина больше, чем априорная, поэтому эти данные свидетельствуют в пользу гипотезы о том, что вы выбрали хитрую монету.\n",
    "\n",
    "И в этом есть смысл, потому что вероятность выпадения орла выше, если вы выберете хитрую, а не обычную монету."
   ]
  },
  {
   "cell_type": "markdown",
   "metadata": {
    "id": "oN6RY4R5DyGN"
   },
   "source": [
    "## Таблица Байеса\n",
    "\n",
    "В проблеме печений и монет мы могли вычислить вероятность данных напрямую, но это не всегда так. Фактически, вычисление полной вероятности данных часто является самой сложной частью проблемы.\n",
    "\n",
    "К счастью, есть еще один способ решения подобных проблем, который упрощает задачу: *таблица Байеса*.\n",
    "\n",
    "Вы можете написать таблицу Байеса на бумаге или использовать электронную таблицу, но в этом блокноте я буду использовать фреймы данных библиотки pandas.\n",
    "\n",
    "Сначала я займусь проблемой печений. \n",
    "\n",
    "Вот пустой фрейм данных с одной строкой для каждой гипотезы:"
   ]
  },
  {
   "cell_type": "code",
   "execution_count": 10,
   "metadata": {
    "id": "J7UQP-VUDyGN"
   },
   "outputs": [],
   "source": [
    "import pandas as pd\n",
    "\n",
    "table = pd.DataFrame(index=['Bowl 1', 'Bowl 2'])"
   ]
  },
  {
   "cell_type": "markdown",
   "metadata": {
    "id": "B-0ep93MDyGO"
   },
   "source": [
    "Теперь я добавлю столбец для представления априорных значений:"
   ]
  },
  {
   "cell_type": "code",
   "execution_count": 11,
   "metadata": {
    "colab": {
     "base_uri": "https://localhost:8080/",
     "height": 112
    },
    "id": "B8aHER5lDyGO",
    "outputId": "25464731-2ad8-4b02-8d69-b9f3b1c7fabc"
   },
   "outputs": [
    {
     "data": {
      "text/html": [
       "<div>\n",
       "<style scoped>\n",
       "    .dataframe tbody tr th:only-of-type {\n",
       "        vertical-align: middle;\n",
       "    }\n",
       "\n",
       "    .dataframe tbody tr th {\n",
       "        vertical-align: top;\n",
       "    }\n",
       "\n",
       "    .dataframe thead th {\n",
       "        text-align: right;\n",
       "    }\n",
       "</style>\n",
       "<table border=\"1\" class=\"dataframe\">\n",
       "  <thead>\n",
       "    <tr style=\"text-align: right;\">\n",
       "      <th></th>\n",
       "      <th>prior</th>\n",
       "    </tr>\n",
       "  </thead>\n",
       "  <tbody>\n",
       "    <tr>\n",
       "      <th>Bowl 1</th>\n",
       "      <td>0.5</td>\n",
       "    </tr>\n",
       "    <tr>\n",
       "      <th>Bowl 2</th>\n",
       "      <td>0.5</td>\n",
       "    </tr>\n",
       "  </tbody>\n",
       "</table>\n",
       "</div>"
      ],
      "text/plain": [
       "        prior\n",
       "Bowl 1    0.5\n",
       "Bowl 2    0.5"
      ]
     },
     "execution_count": 11,
     "metadata": {},
     "output_type": "execute_result"
    }
   ],
   "source": [
    "table['prior'] = 1/2, 1/2\n",
    "table"
   ]
  },
  {
   "cell_type": "markdown",
   "metadata": {},
   "source": [
    "И столбец для правдоподобия:"
   ]
  },
  {
   "cell_type": "code",
   "execution_count": 12,
   "metadata": {
    "colab": {
     "base_uri": "https://localhost:8080/",
     "height": 112
    },
    "id": "GwmgiYmODyGO",
    "outputId": "8129fd86-7248-4005-e680-2bd60bd7faaf"
   },
   "outputs": [
    {
     "data": {
      "text/html": [
       "<div>\n",
       "<style scoped>\n",
       "    .dataframe tbody tr th:only-of-type {\n",
       "        vertical-align: middle;\n",
       "    }\n",
       "\n",
       "    .dataframe tbody tr th {\n",
       "        vertical-align: top;\n",
       "    }\n",
       "\n",
       "    .dataframe thead th {\n",
       "        text-align: right;\n",
       "    }\n",
       "</style>\n",
       "<table border=\"1\" class=\"dataframe\">\n",
       "  <thead>\n",
       "    <tr style=\"text-align: right;\">\n",
       "      <th></th>\n",
       "      <th>prior</th>\n",
       "      <th>likelihood</th>\n",
       "    </tr>\n",
       "  </thead>\n",
       "  <tbody>\n",
       "    <tr>\n",
       "      <th>Bowl 1</th>\n",
       "      <td>0.5</td>\n",
       "      <td>0.75</td>\n",
       "    </tr>\n",
       "    <tr>\n",
       "      <th>Bowl 2</th>\n",
       "      <td>0.5</td>\n",
       "      <td>0.50</td>\n",
       "    </tr>\n",
       "  </tbody>\n",
       "</table>\n",
       "</div>"
      ],
      "text/plain": [
       "        prior  likelihood\n",
       "Bowl 1    0.5        0.75\n",
       "Bowl 2    0.5        0.50"
      ]
     },
     "execution_count": 12,
     "metadata": {},
     "output_type": "execute_result"
    }
   ],
   "source": [
    "table['likelihood'] = 3/4, 1/2\n",
    "table"
   ]
  },
  {
   "cell_type": "markdown",
   "metadata": {
    "id": "zl4Rcu8zDyGO"
   },
   "source": [
    "Здесь мы видим отличие от предыдущего метода: мы вычисляем правдоподобие для обеих гипотез, а не только для первой миски:\n",
    "\n",
    "* Вероятность получить ванильное печенье из первой миски составляет 3/4.\n",
    "\n",
    "* Шанс получить ванильное печенье из второй миски - 1/2.\n",
    "\n",
    "Следующий шаг аналогичен тому, что мы сделали с теоремой Байеса; мы умножаем априорные значения на правдоподобие:"
   ]
  },
  {
   "cell_type": "code",
   "execution_count": 13,
   "metadata": {
    "colab": {
     "base_uri": "https://localhost:8080/",
     "height": 112
    },
    "id": "dRQyLHIqDyGO",
    "outputId": "2c3e8375-9e53-4cfe-9a7e-fb271acbc66b"
   },
   "outputs": [
    {
     "data": {
      "text/html": [
       "<div>\n",
       "<style scoped>\n",
       "    .dataframe tbody tr th:only-of-type {\n",
       "        vertical-align: middle;\n",
       "    }\n",
       "\n",
       "    .dataframe tbody tr th {\n",
       "        vertical-align: top;\n",
       "    }\n",
       "\n",
       "    .dataframe thead th {\n",
       "        text-align: right;\n",
       "    }\n",
       "</style>\n",
       "<table border=\"1\" class=\"dataframe\">\n",
       "  <thead>\n",
       "    <tr style=\"text-align: right;\">\n",
       "      <th></th>\n",
       "      <th>prior</th>\n",
       "      <th>likelihood</th>\n",
       "      <th>unnorm</th>\n",
       "    </tr>\n",
       "  </thead>\n",
       "  <tbody>\n",
       "    <tr>\n",
       "      <th>Bowl 1</th>\n",
       "      <td>0.5</td>\n",
       "      <td>0.75</td>\n",
       "      <td>0.375</td>\n",
       "    </tr>\n",
       "    <tr>\n",
       "      <th>Bowl 2</th>\n",
       "      <td>0.5</td>\n",
       "      <td>0.50</td>\n",
       "      <td>0.250</td>\n",
       "    </tr>\n",
       "  </tbody>\n",
       "</table>\n",
       "</div>"
      ],
      "text/plain": [
       "        prior  likelihood  unnorm\n",
       "Bowl 1    0.5        0.75   0.375\n",
       "Bowl 2    0.5        0.50   0.250"
      ]
     },
     "execution_count": 13,
     "metadata": {},
     "output_type": "execute_result"
    }
   ],
   "source": [
    "table['unnorm'] = table['prior'] * table['likelihood']\n",
    "table"
   ]
  },
  {
   "cell_type": "markdown",
   "metadata": {
    "id": "8EnI8c5cDyGP"
   },
   "source": [
    "Я назвал результат `unnorm`, потому что он \"ненормализованный апостериорный\" (unnormalized posterior).\n",
    "\n",
    "Чтобы понять, что это означает, давайте сравним правую часть теоремы Байеса:\n",
    "\n",
    "$P(H) P(D|H)~/~P(D)$\n",
    "\n",
    "К тому, что мы вычислили до сих пор:\n",
    "\n",
    "$P(H) P(D|H)$\n",
    "\n",
    "Разница в том, что мы не разделили на $P(D)$ полную вероятность данных. Так что давай сделаем это."
   ]
  },
  {
   "cell_type": "markdown",
   "metadata": {
    "id": "nCiIVCvgDyGP"
   },
   "source": [
    "Есть два способа вычислить $P(D)$:\n",
    "\n",
    "1. иногда мы можем выяснить ее напрямую;\n",
    "\n",
    "2. в противном случае мы можем вычислить ее, сложив ненормализованные апостериоры (`unnorm`).\n",
    "\n",
    "С помощью вычислений я покажу второй способ, а затем объясню, как он работает.\n",
    "\n",
    "Вот общее количество `unnorm`:"
   ]
  },
  {
   "cell_type": "code",
   "execution_count": 15,
   "metadata": {
    "colab": {
     "base_uri": "https://localhost:8080/"
    },
    "id": "osg5_lORDyGP",
    "outputId": "2996b054-e4d3-49bd-8364-7388f70c07cf"
   },
   "outputs": [
    {
     "data": {
      "text/plain": [
       "0.625"
      ]
     },
     "execution_count": 15,
     "metadata": {},
     "output_type": "execute_result"
    }
   ],
   "source": [
    "prob_data = table['unnorm'].sum()\n",
    "prob_data"
   ]
  },
  {
   "cell_type": "markdown",
   "metadata": {
    "id": "Gb943ZfkDyGP"
   },
   "source": [
    "Обратите внимание, что мы получаем 5/8, что мы и получили, напрямую вычислив $P(D)$.\n",
    "\n",
    "Теперь разделим на $P(D)$, чтобы получить апостериорную вероятность:"
   ]
  },
  {
   "cell_type": "code",
   "execution_count": 16,
   "metadata": {
    "colab": {
     "base_uri": "https://localhost:8080/",
     "height": 112
    },
    "id": "cM2Se53HDyGP",
    "outputId": "ec9cd4f8-d401-434e-d4f0-fe330326646b"
   },
   "outputs": [
    {
     "data": {
      "text/html": [
       "<div>\n",
       "<style scoped>\n",
       "    .dataframe tbody tr th:only-of-type {\n",
       "        vertical-align: middle;\n",
       "    }\n",
       "\n",
       "    .dataframe tbody tr th {\n",
       "        vertical-align: top;\n",
       "    }\n",
       "\n",
       "    .dataframe thead th {\n",
       "        text-align: right;\n",
       "    }\n",
       "</style>\n",
       "<table border=\"1\" class=\"dataframe\">\n",
       "  <thead>\n",
       "    <tr style=\"text-align: right;\">\n",
       "      <th></th>\n",
       "      <th>prior</th>\n",
       "      <th>likelihood</th>\n",
       "      <th>unnorm</th>\n",
       "      <th>posterior</th>\n",
       "    </tr>\n",
       "  </thead>\n",
       "  <tbody>\n",
       "    <tr>\n",
       "      <th>Bowl 1</th>\n",
       "      <td>0.5</td>\n",
       "      <td>0.75</td>\n",
       "      <td>0.375</td>\n",
       "      <td>0.6</td>\n",
       "    </tr>\n",
       "    <tr>\n",
       "      <th>Bowl 2</th>\n",
       "      <td>0.5</td>\n",
       "      <td>0.50</td>\n",
       "      <td>0.250</td>\n",
       "      <td>0.4</td>\n",
       "    </tr>\n",
       "  </tbody>\n",
       "</table>\n",
       "</div>"
      ],
      "text/plain": [
       "        prior  likelihood  unnorm  posterior\n",
       "Bowl 1    0.5        0.75   0.375        0.6\n",
       "Bowl 2    0.5        0.50   0.250        0.4"
      ]
     },
     "execution_count": 16,
     "metadata": {},
     "output_type": "execute_result"
    }
   ],
   "source": [
    "table['posterior'] = table['unnorm'] / prob_data\n",
    "table"
   ]
  },
  {
   "cell_type": "markdown",
   "metadata": {
    "id": "VQJesKXdDyGQ"
   },
   "source": [
    "Апостериорная вероятность для первой миски равна 0,6, что мы и получили, явно используя теорему Байеса.\n",
    "\n",
    "В качестве бонуса мы также получаем апостериорную вероятность второй миски, равную 0,4.\n",
    "\n",
    "Сумма апостериорных вероятностей дает 1, что должно быть, потому что гипотезы \"дополняют друг друга\"; то есть либо одно из них истинно, либо другое, но не оба. Таким образом, их вероятности должны составлять в сумме 1.\n",
    "\n",
    "Когда мы складываем ненормализованные апостериорные элементы и делим их, мы заставляем дополнять апостериорные элементы до 1. Этот процесс называется \"нормализацией\", поэтому полная вероятность данных также называется [\"нормализующей константой\"](https://en.wikipedia.org/wiki/Normalizing_constant#Bayes'_theorem).\n",
    "\n",
    "Возможно, еще не ясно, почему ненормализованные апостериорные элементы в сумме составляют $P(D)$. Я вернусь к этому в следующем блокноте."
   ]
  },
  {
   "cell_type": "markdown",
   "metadata": {
    "id": "hP2jAQMrDyGQ"
   },
   "source": [
    "**Упражнение:** Решите проблему с монеткой, используя таблицу Байеса:\n",
    "\n",
    "> Допустим, у вас в коробке две монеты. Одна - обычная монета с орлами на одной стороне и решками с другой, а другая - хитрая с орлами с обеих сторон.\n",
    ">\n",
    "> Вы выбираете монету наугад и видите, что одна из сторон - орел. Какова апостериорная вероятность того, что вы выбрали хитрую монету?\n",
    "\n",
    "*Подсказка*: ответ все равно должен быть 2/3."
   ]
  },
  {
   "cell_type": "code",
   "execution_count": 17,
   "metadata": {
    "id": "Kwn619iuDyGQ"
   },
   "outputs": [],
   "source": [
    "# Решение здесь"
   ]
  },
  {
   "cell_type": "markdown",
   "metadata": {
    "id": "Wdlrh6B1DyGQ"
   },
   "source": [
    "## Итоги\n",
    "\n"
   ]
  },
  {
   "cell_type": "markdown",
   "metadata": {
    "id": "6XA-FpOEDyGQ"
   },
   "source": [
    "В этом блокноте я представил две проблемы: проблему с печеньками и проблему с монеткой.\n",
    "\n",
    "Мы решили обе проблемы, используя теорему Байеса; затем я представил таблицу Байеса - метод решения проблем, в которых трудно вычислить полную вероятность данных напрямую.\n",
    "\n",
    "В следующем блокноте мы увидим примеры с более чем двумя гипотезами, и я объясню более внимательно, как работает таблица Байеса."
   ]
  },
  {
   "cell_type": "markdown",
   "metadata": {
    "id": "XF8ez-jfDyGQ"
   },
   "source": [
    "<a href=\"https://t.me/init_python\"><img src=\"https://dfedorov.spb.ru/pandas/logo-telegram.png\" width=\"35\" height=\"35\" alt=\"telegram\" align=\"left\"></a>"
   ]
  },
  {
   "cell_type": "code",
   "execution_count": null,
   "metadata": {},
   "outputs": [],
   "source": []
  }
 ],
 "metadata": {
  "colab": {
   "collapsed_sections": [],
   "name": "Перевод \"03_cookie.ipynb\"",
   "provenance": []
  },
  "kernelspec": {
   "display_name": "Python 3",
   "language": "python",
   "name": "python3"
  },
  "language_info": {
   "codemirror_mode": {
    "name": "ipython",
    "version": 3
   },
   "file_extension": ".py",
   "mimetype": "text/x-python",
   "name": "python",
   "nbconvert_exporter": "python",
   "pygments_lexer": "ipython3",
   "version": "3.8.2"
  }
 },
 "nbformat": 4,
 "nbformat_minor": 4
}
