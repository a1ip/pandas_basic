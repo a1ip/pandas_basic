{
 "cells": [
  {
   "cell_type": "markdown",
   "metadata": {
    "id": "j6RAdOmNDxid"
   },
   "source": [
    "# Теорема Байеса"
   ]
  },
  {
   "cell_type": "markdown",
   "metadata": {
    "id": "y02a6aqVDxig",
    "tags": []
   },
   "source": [
    "Этот блокнот является частью [Bite Size Bayes](https://allendowney.github.io/BiteSizeBayes/), введения в вероятность и байесовскую статистику с использованием Python.\n",
    "\n",
    "Copyright 2020 Allen B. Downey\n",
    "\n",
    "License: [Attribution-NonCommercial-ShareAlike 4.0 International (CC BY-NC-SA 4.0)](https://creativecommons.org/licenses/by-nc-sa/4.0/)"
   ]
  },
  {
   "cell_type": "markdown",
   "metadata": {},
   "source": [
    "<a href=\"https://t.me/init_python\"><img src=\"https://dfedorov.spb.ru/pandas/logo-telegram.png\" width=\"35\" height=\"35\" alt=\"telegram\" align=\"left\"></a>"
   ]
  },
  {
   "cell_type": "markdown",
   "metadata": {},
   "source": [
    "<a href=\"https://colab.research.google.com/github/dm-fedorov/pandas_basic/blob/master/быстрое%20введение%20в%20pandas/Законы%20вероятности.ipynb\"><img align=\"left\" src=\"https://colab.research.google.com/assets/colab-badge.svg\" alt=\"Open in Colab\" title=\"Open and Execute in Google Colaboratory\" target=\"_blank\"></a>"
   ]
  },
  {
   "cell_type": "markdown",
   "metadata": {
    "id": "leDFPxt7Dxih",
    "tags": []
   },
   "source": [
    "Следующая ячейка загружает файл `utils.py`, содержащий некоторую полезную функцию, которая нам понадобится:"
   ]
  },
  {
   "cell_type": "code",
   "execution_count": 1,
   "metadata": {
    "colab": {
     "base_uri": "https://localhost:8080/"
    },
    "id": "CMXmAaUEDxii",
    "outputId": "8edd3240-75fb-490a-ecf8-c13f4d37d4c6",
    "tags": []
   },
   "outputs": [],
   "source": [
    "from os.path import basename, exists\n",
    "\n",
    "def download(url):\n",
    "    filename = basename(url)\n",
    "    if not exists(filename):\n",
    "        from urllib.request import urlretrieve\n",
    "        local, _ = urlretrieve(url, filename)\n",
    "        print('Downloaded ' + local)\n",
    "\n",
    "download('https://github.com/AllenDowney/BiteSizeBayes/raw/master/utils.py')"
   ]
  },
  {
   "cell_type": "markdown",
   "metadata": {
    "id": "zT6lMW3QDxil",
    "tags": []
   },
   "source": [
    "Следующая ячейка загружает файл данных, который мы будем использовать в этом блокноте:"
   ]
  },
  {
   "cell_type": "code",
   "execution_count": 2,
   "metadata": {
    "colab": {
     "base_uri": "https://localhost:8080/"
    },
    "id": "KZX4_cSgDxil",
    "outputId": "105dbad6-bcd9-4ec6-8ca9-9e66292e4377",
    "tags": []
   },
   "outputs": [],
   "source": [
    "download('https://github.com/AllenDowney/BiteSizeBayes/raw/master/gss_bayes.csv')"
   ]
  },
  {
   "cell_type": "markdown",
   "metadata": {
    "id": "U3-zYyELDxil",
    "tags": []
   },
   "source": [
    "Если все, что нам нужно, установлено, следующая ячейка должна работать без сообщений об ошибках:"
   ]
  },
  {
   "cell_type": "code",
   "execution_count": 3,
   "metadata": {
    "id": "IdTDMHSmDxim"
   },
   "outputs": [],
   "source": [
    "import pandas as pd\n",
    "import numpy as np\n",
    "\n",
    "from utils import values"
   ]
  },
  {
   "cell_type": "markdown",
   "metadata": {
    "id": "n4wsFIczDxit"
   },
   "source": [
    "## Обзор\n",
    "\n",
    "[В предыдущем блокноте](https://dfedorov.spb.ru/pandas/downey/%D0%97%D0%B0%D0%BA%D0%BE%D0%BD%D1%8B%20%D0%B2%D0%B5%D1%80%D0%BE%D1%8F%D1%82%D0%BD%D0%BE%D1%81%D1%82%D0%B8.html) я определил *вероятность*, *конъюнкцию* и *условную вероятность* и использовал данные из GSS для вычисления вероятности различных логических утверждений.\n",
    "\n",
    "Для обзора, вот как мы загрузили набор данных:"
   ]
  },
  {
   "cell_type": "code",
   "execution_count": 4,
   "metadata": {
    "id": "EWsJJgfRDxiu"
   },
   "outputs": [],
   "source": [
    "gss = pd.read_csv('gss_bayes.csv', index_col=0)"
   ]
  },
  {
   "cell_type": "markdown",
   "metadata": {
    "id": "AlVh8PplDxiu"
   },
   "source": [
    "А вот и определенные нами логические утверждения, представленные с помощью логических серий (Boolean series):"
   ]
  },
  {
   "cell_type": "code",
   "execution_count": 5,
   "metadata": {
    "id": "f80G4MYWDxiu"
   },
   "outputs": [],
   "source": [
    "banker = (gss['indus10'] == 6870)"
   ]
  },
  {
   "cell_type": "code",
   "execution_count": 6,
   "metadata": {
    "id": "rHqYgNIFDxiu"
   },
   "outputs": [],
   "source": [
    "female = (gss['sex'] == 2)"
   ]
  },
  {
   "cell_type": "code",
   "execution_count": 7,
   "metadata": {
    "id": "nEbCnB9KDxiv"
   },
   "outputs": [],
   "source": [
    "liberal = (gss['polviews'] < 4)"
   ]
  },
  {
   "cell_type": "code",
   "execution_count": 8,
   "metadata": {
    "id": "ed5dxvSdDxiv"
   },
   "outputs": [],
   "source": [
    "democrat = (gss['partyid'] <= 1)"
   ]
  },
  {
   "cell_type": "markdown",
   "metadata": {
    "id": "oJUwdRkpDxiv"
   },
   "source": [
    "Я определил следующую функцию, которая использует `mean` для вычисления доли значений `True` в логической серии:"
   ]
  },
  {
   "cell_type": "code",
   "execution_count": 9,
   "metadata": {
    "id": "mSWjrCrTDxiv"
   },
   "outputs": [],
   "source": [
    "def prob(A):\n",
    "    \"\"\"Computes the probability of a proposition, A.\n",
    "    \n",
    "    A: Boolean series\n",
    "    \n",
    "    returns: probability\n",
    "    \"\"\"\n",
    "    assert isinstance(A, pd.Series)\n",
    "    assert A.dtype == 'bool'\n",
    "    \n",
    "    return A.mean()"
   ]
  },
  {
   "cell_type": "markdown",
   "metadata": {
    "id": "x9_iDsdCDxiv"
   },
   "source": [
    "Итак, мы можем вычислить вероятность такого утверждения:"
   ]
  },
  {
   "cell_type": "code",
   "execution_count": 10,
   "metadata": {
    "colab": {
     "base_uri": "https://localhost:8080/"
    },
    "id": "iKGLHgh6Dxiw",
    "outputId": "26c79647-3888-4bbf-ce9a-621d764a106c"
   },
   "outputs": [
    {
     "data": {
      "text/plain": [
       "0.5378575776019476"
      ]
     },
     "execution_count": 10,
     "metadata": {},
     "output_type": "execute_result"
    }
   ],
   "source": [
    "prob(female)"
   ]
  },
  {
   "cell_type": "markdown",
   "metadata": {
    "id": "NBEvGYHKDxiw"
   },
   "source": [
    "Затем мы использовали оператор `&` для вычисления вероятности конъюнкции, например:"
   ]
  },
  {
   "cell_type": "code",
   "execution_count": 11,
   "metadata": {
    "colab": {
     "base_uri": "https://localhost:8080/"
    },
    "id": "So6esaj9Dxiw",
    "outputId": "6e8fcea8-dbf2-4ac6-f6ef-685ea93833f4"
   },
   "outputs": [
    {
     "data": {
      "text/plain": [
       "0.011381618989653074"
      ]
     },
     "execution_count": 11,
     "metadata": {},
     "output_type": "execute_result"
    }
   ],
   "source": [
    "prob(female & banker)"
   ]
  },
  {
   "cell_type": "markdown",
   "metadata": {
    "id": "xa5zF4zHDxiw"
   },
   "source": [
    "Затем я определил следующую функцию, которая использует оператор скобок для вычисления условной вероятности:"
   ]
  },
  {
   "cell_type": "code",
   "execution_count": 12,
   "metadata": {
    "id": "vMu28K81Dxiw"
   },
   "outputs": [],
   "source": [
    "def conditional(A, B):\n",
    "    \"\"\"Conditional probability of A given B.\n",
    "    \n",
    "    A: Boolean series\n",
    "    B: Boolean series\n",
    "    \n",
    "    returns: probability\n",
    "    \"\"\"\n",
    "    return prob(A[B])"
   ]
  },
  {
   "cell_type": "markdown",
   "metadata": {
    "id": "M9LlaHsKDxiw"
   },
   "source": [
    "Мы показали, что конъюнкция коммутативна, так что `prob(A & B)` равно `prob(B & A)` для любых логических утверждений `A` и `B`.\n",
    "\n",
    "Например:"
   ]
  },
  {
   "cell_type": "code",
   "execution_count": 13,
   "metadata": {
    "colab": {
     "base_uri": "https://localhost:8080/"
    },
    "id": "D0aD2CrODxiw",
    "outputId": "7aa65c8e-83bc-41a0-8a55-e9bcac710732"
   },
   "outputs": [
    {
     "data": {
      "text/plain": [
       "0.1425238385067965"
      ]
     },
     "execution_count": 13,
     "metadata": {},
     "output_type": "execute_result"
    }
   ],
   "source": [
    "prob(liberal & democrat)"
   ]
  },
  {
   "cell_type": "code",
   "execution_count": 14,
   "metadata": {
    "colab": {
     "base_uri": "https://localhost:8080/"
    },
    "id": "TWEAs1HoDxix",
    "outputId": "c47cf7cd-e6a2-4eaa-db31-6b9b4a642c84"
   },
   "outputs": [
    {
     "data": {
      "text/plain": [
       "0.1425238385067965"
      ]
     },
     "execution_count": 14,
     "metadata": {},
     "output_type": "execute_result"
    }
   ],
   "source": [
    "prob(democrat & liberal)"
   ]
  },
  {
   "cell_type": "markdown",
   "metadata": {
    "id": "dVG8kCl3Dxix"
   },
   "source": [
    "Но условная вероятность *НЕ* коммутативна, поэтому `conditional(A, B)` обычно не то же самое, что `conditional(B, A)`.\n",
    "\n",
    "Например, вот вероятность того, что респондент - женщина, учитывая, что это банкир."
   ]
  },
  {
   "cell_type": "code",
   "execution_count": 15,
   "metadata": {
    "colab": {
     "base_uri": "https://localhost:8080/"
    },
    "id": "eh_ud3V5Dxix",
    "outputId": "ca11f3db-112c-4eb3-ff4e-75bc39c9b148"
   },
   "outputs": [
    {
     "data": {
      "text/plain": [
       "0.7706043956043956"
      ]
     },
     "execution_count": 15,
     "metadata": {},
     "output_type": "execute_result"
    }
   ],
   "source": [
    "conditional(female, banker)"
   ]
  },
  {
   "cell_type": "markdown",
   "metadata": {
    "id": "NbcxpVQwDxix"
   },
   "source": [
    "И вот вероятность того, что респондент - банкир, учитывая, что она женщина."
   ]
  },
  {
   "cell_type": "code",
   "execution_count": 16,
   "metadata": {
    "colab": {
     "base_uri": "https://localhost:8080/"
    },
    "id": "sdg0Yw19Dxix",
    "outputId": "e13e6274-f207-4e0e-fd75-47bc138e997d"
   },
   "outputs": [
    {
     "data": {
      "text/plain": [
       "0.02116102749801969"
      ]
     },
     "execution_count": 16,
     "metadata": {},
     "output_type": "execute_result"
    }
   ],
   "source": [
    "conditional(banker, female)"
   ]
  },
  {
   "cell_type": "markdown",
   "metadata": {
    "id": "c8I451_NDxix"
   },
   "source": [
    "Даже не близко."
   ]
  },
  {
   "cell_type": "markdown",
   "metadata": {
    "id": "dVDaQ8IVDxiy"
   },
   "source": [
    "## Другие утверждения\n",
    "\n",
    "Для разнообразия наших примеров давайте определим некоторые новые утверждения.\n",
    "\n",
    "Вот вероятность того, что случайный респондент - мужчина."
   ]
  },
  {
   "cell_type": "code",
   "execution_count": 17,
   "metadata": {
    "colab": {
     "base_uri": "https://localhost:8080/"
    },
    "id": "llaLkRGCDxiy",
    "outputId": "b7ece555-8d73-44a6-96cf-07a69fff1744"
   },
   "outputs": [
    {
     "data": {
      "text/plain": [
       "0.46214242239805237"
      ]
     },
     "execution_count": 17,
     "metadata": {},
     "output_type": "execute_result"
    }
   ],
   "source": [
    "male = (gss['sex']==1)\n",
    "prob(male)"
   ]
  },
  {
   "cell_type": "markdown",
   "metadata": {
    "id": "M81FHee0Dxiy"
   },
   "source": [
    "Отраслевой код для \"Строительства\" (Construction) - `770`. Назовем кого-нибудь из этой области \"builder\" (строителем)."
   ]
  },
  {
   "cell_type": "code",
   "execution_count": 18,
   "metadata": {
    "colab": {
     "base_uri": "https://localhost:8080/"
    },
    "id": "tOVTNrvADxiz",
    "outputId": "70ddce00-570b-4f26-d278-c01691a3ed15"
   },
   "outputs": [
    {
     "data": {
      "text/plain": [
       "0.05978900385473727"
      ]
     },
     "execution_count": 18,
     "metadata": {},
     "output_type": "execute_result"
    }
   ],
   "source": [
    "builder = (gss['indus10'] == 770)\n",
    "prob(builder)"
   ]
  },
  {
   "cell_type": "markdown",
   "metadata": {
    "id": "8p04LuNGDxiz"
   },
   "source": [
    "И давайте определимся с утверждениями для консерваторов и республиканцев:"
   ]
  },
  {
   "cell_type": "code",
   "execution_count": 19,
   "metadata": {
    "colab": {
     "base_uri": "https://localhost:8080/"
    },
    "id": "YorePJrqDxiz",
    "outputId": "366ab5fb-8f17-45fa-f8f8-d2e2be397ac0"
   },
   "outputs": [
    {
     "data": {
      "text/plain": [
       "0.3419354838709677"
      ]
     },
     "execution_count": 19,
     "metadata": {},
     "output_type": "execute_result"
    }
   ],
   "source": [
    "conservative = (gss['polviews'] > 4)\n",
    "prob(conservative)"
   ]
  },
  {
   "cell_type": "code",
   "execution_count": 20,
   "metadata": {
    "colab": {
     "base_uri": "https://localhost:8080/"
    },
    "id": "BRtg4k-9Dxiz",
    "outputId": "fcee10f8-793a-4240-fe99-58c6916fce4e"
   },
   "outputs": [
    {
     "data": {
      "text/plain": [
       "0.2610062893081761"
      ]
     },
     "execution_count": 20,
     "metadata": {},
     "output_type": "execute_result"
    }
   ],
   "source": [
    "republican = (gss['partyid'].isin([5,6]))\n",
    "prob(republican)"
   ]
  },
  {
   "cell_type": "markdown",
   "metadata": {
    "id": "-Tz3pxItDxi0"
   },
   "source": [
    "Функция `isin` проверяет, находятся ли значения в заданной последовательности. \n",
    "\n",
    "В этом примере значения `5` и `6` представляют ответы \"Сильный республиканец\" (Strong Republican) и \"Несильный республиканец\" (Not Strong Republican)."
   ]
  },
  {
   "cell_type": "markdown",
   "metadata": {
    "id": "2BwfOfTiDxi0"
   },
   "source": [
    "Наконец, я буду использовать `age` для определения утверждений для `young` (молодой) и `old` (пожилой)."
   ]
  },
  {
   "cell_type": "code",
   "execution_count": 21,
   "metadata": {
    "colab": {
     "base_uri": "https://localhost:8080/"
    },
    "id": "Tu53Hu4eDxi0",
    "outputId": "01cd945e-4054-412b-dd92-435d7e24bf4a"
   },
   "outputs": [
    {
     "data": {
      "text/plain": [
       "0.19435991073240008"
      ]
     },
     "execution_count": 21,
     "metadata": {},
     "output_type": "execute_result"
    }
   ],
   "source": [
    "young = (gss['age'] < 30)\n",
    "prob(young)"
   ]
  },
  {
   "cell_type": "code",
   "execution_count": 22,
   "metadata": {
    "colab": {
     "base_uri": "https://localhost:8080/"
    },
    "id": "WylvAeHfDxi1",
    "outputId": "6b4998cd-7116-417e-a0f4-932b263edc38"
   },
   "outputs": [
    {
     "data": {
      "text/plain": [
       "0.17328058429701765"
      ]
     },
     "execution_count": 22,
     "metadata": {},
     "output_type": "execute_result"
    }
   ],
   "source": [
    "old = (gss['age'] >= 65)\n",
    "prob(old)"
   ]
  },
  {
   "cell_type": "markdown",
   "metadata": {
    "id": "F9fm5ylzDxi1"
   },
   "source": [
    "Для этих порогов я выбрал круглые числа около 20-го и 80-го процентилей. В зависимости от вашего возраста вы можете соглашаться или не соглашаться с этими определениями `young` (молодой) и `old` (пожилой)."
   ]
  },
  {
   "cell_type": "markdown",
   "metadata": {
    "id": "4I44Svp8Dxi1"
   },
   "source": [
    "**Упражнение:** Есть [известная цитата](https://quoteinvestigator.com/2014/02/24/heart-head/) о молодых людях, стариках, либералах и консерваторах, которая звучит примерно так:\n",
    "\n",
    "> Если в 25 вы не либерал, у вас нет сердца. Если в 35 лет вы не консерватор, у вас нет мозга.\n",
    "\n",
    "Независимо от того, согласны вы с этим утверждением или нет, оно предполагает некоторые вероятности, которые мы можем вычислить в качестве проверки.\n",
    "\n",
    "Используйте `prob` и `conditional` для вычисления этих вероятностей.\n",
    "\n",
    "* Какова вероятность того, что случайно выбранный респондент окажется молодым либералом?\n",
    "\n",
    "* Какова вероятность того, что молодой человек будет либералом?\n",
    "\n",
    "* Какая доля респондентов - пожилые консерваторы?\n",
    "\n",
    "* Какая часть консерваторов - люди старшего возраста?\n",
    "\n",
    "Для каждого утверждения подумайте, выражает ли оно конъюнкцию, условную вероятность или и то, и другое.\n",
    "\n",
    "А для условных вероятностей будьте осторожны с порядком!"
   ]
  },
  {
   "cell_type": "code",
   "execution_count": 23,
   "metadata": {
    "id": "Q3idnT6tDxi2"
   },
   "outputs": [],
   "source": [
    "# Решение здесь"
   ]
  },
  {
   "cell_type": "markdown",
   "metadata": {
    "id": "S9Phe-vDDxi4"
   },
   "source": [
    "Если ваш последний ответ больше 30%, значит, вы получили его наоборот!"
   ]
  },
  {
   "cell_type": "markdown",
   "metadata": {
    "id": "eSv78HYnDxi8"
   },
   "source": [
    "## Вперед!\n",
    "\n",
    "В этом ноутбуке мы выведем три отношения между конъюнкцией и условной вероятностью:\n",
    "\n",
    "* **Теорема 1**. Использование конъюнкции для вычисления условной вероятности.\n",
    "\n",
    "* **Теорема 2**: Использование условной вероятности для вычисления конъюнкции.\n",
    "\n",
    "* **Теорема 3**: Использование `conditional(A, B)` для вычисления `conditional(B, A)`.\n",
    "\n",
    "Теорема 3 также известна как *теорема Байеса*, которая является основой байесовской статистики.\n",
    "\n",
    "В некоторых частях этого блокнота будет полезно использовать математические обозначения вероятностей, поэтому я представлю их сейчас.\n",
    "\n",
    "* $P(A)$ - это вероятность утверждения $A$.\n",
    "\n",
    "* $P(A~\\mathrm{and}~B)$ - это вероятность конъюнкции $A$ и $B$, то есть вероятность того, что оба утверждения верны.\n",
    "\n",
    "* $P(A | B)$ - это условная вероятность $A$ при условии, что $B$ истинно. Вертикальная линия между $A$ и $B$ произносится как \"дано\".\n",
    "\n",
    "Теперь мы готовы к Теореме 1."
   ]
  },
  {
   "cell_type": "markdown",
   "metadata": {
    "id": "-ks57JJUDxi9"
   },
   "source": [
    "## Теорема 1\n",
    "\n",
    "Какая часть строителей - мужчины? Мы уже видели один способ вычислить ответ:\n",
    "\n",
    "1. с помощью оператора скобок выберите строителей, затем\n",
    "\n",
    "2. используйте `mean`, чтобы вычислить долю строителей мужского пола.\n",
    "\n",
    "Мы можем записать эти шаги так:"
   ]
  },
  {
   "cell_type": "code",
   "execution_count": 24,
   "metadata": {
    "colab": {
     "base_uri": "https://localhost:8080/"
    },
    "id": "KR3IlhsIDxi9",
    "outputId": "46ece008-9cd0-4dd6-c148-bf5e75d3212e"
   },
   "outputs": [
    {
     "data": {
      "text/plain": [
       "0.8920936545639634"
      ]
     },
     "execution_count": 24,
     "metadata": {},
     "output_type": "execute_result"
    }
   ],
   "source": [
    "male[builder].mean()"
   ]
  },
  {
   "cell_type": "markdown",
   "metadata": {
    "id": "_-b0hyxzDxjG"
   },
   "source": [
    "Или мы можем использовать функцию `conditional`, которая делает то же самое:"
   ]
  },
  {
   "cell_type": "code",
   "execution_count": 25,
   "metadata": {
    "colab": {
     "base_uri": "https://localhost:8080/"
    },
    "id": "MYE-B2imDxjG",
    "outputId": "f0613926-e859-42f8-85bd-27c151dfa3ba"
   },
   "outputs": [
    {
     "data": {
      "text/plain": [
       "0.8920936545639634"
      ]
     },
     "execution_count": 25,
     "metadata": {},
     "output_type": "execute_result"
    }
   ],
   "source": [
    "conditional(male, builder)"
   ]
  },
  {
   "cell_type": "markdown",
   "metadata": {
    "id": "Mluw_my_DxjG"
   },
   "source": [
    "Но есть другой способ: чтобы вычислить долю строителей-мужчин, мы можем вычислить отношение двух вероятностей:\n",
    "\n",
    "1. долю респондентов строителей-мужчин и\n",
    "\n",
    "2. долю респондентов строителей.\n",
    "\n",
    "Вот как это выглядит:\n"
   ]
  },
  {
   "cell_type": "code",
   "execution_count": 26,
   "metadata": {
    "colab": {
     "base_uri": "https://localhost:8080/"
    },
    "id": "NNVqfOvXDxjG",
    "outputId": "ad46244e-3109-41e3-8a88-0a5230fb953b"
   },
   "outputs": [
    {
     "data": {
      "text/plain": [
       "0.8920936545639634"
      ]
     },
     "execution_count": 26,
     "metadata": {},
     "output_type": "execute_result"
    }
   ],
   "source": [
    "prob(male & builder) / prob(builder)"
   ]
  },
  {
   "cell_type": "markdown",
   "metadata": {
    "id": "bULqluEBDxjG"
   },
   "source": [
    "Результат тот же.\n",
    "\n",
    "Этот пример демонстрирует *общее правило, которое связывает условную вероятность и конъюнкцию*. \n",
    "\n",
    "Вот как это выглядит в математической записи:\n",
    "\n",
    "$P(A|B) = \\frac{P(A~\\mathrm{and}~B)}{P(B)}$\n",
    "\n",
    "И это Теорема 1.\n",
    "\n",
    "В этом примере:\n",
    "\n",
    "`conditional(male, builder) = prob(male & builder) / prob(builder)`"
   ]
  },
  {
   "cell_type": "markdown",
   "metadata": {
    "id": "2A9ETPN2DxjH"
   },
   "source": [
    "**Упражнение:** Какая часть консерваторов - республиканцы? Вычислите ответ двумя способами:\n",
    "\n",
    "* используйте функцию `conditional` (которая использует оператор скобки) и\n",
    "\n",
    "* используйте Теорему 1.\n",
    "\n",
    "Подтвердите, что вы получили такой же ответ.\n",
    "\n",
    "*Примечание*: из-за арифметики с плавающей запятой результаты могут не совпадать, но почти все цифры должны совпадать."
   ]
  },
  {
   "cell_type": "code",
   "execution_count": 27,
   "metadata": {
    "id": "y5xsI1DuDxjH"
   },
   "outputs": [],
   "source": [
    "# Решение здесь"
   ]
  },
  {
   "cell_type": "markdown",
   "metadata": {
    "id": "hlbBcHA3DxjI"
   },
   "source": [
    "## Доказательство?\n",
    "\n",
    "На самом деле я не доказал Теорему 1; в основном, это утверждение о том, что означает условная вероятность.\n",
    "\n",
    "Например, рассмотрим эту диаграмму Венна:\n",
    "\n",
    "<img width=\"200\" src=\"https://github.com/AllenDowney/BiteSizeBayes/raw/master/theorem1_venn_diagram.png\">\n",
    "\n",
    "Синий кружок представляет респондентов-мужчин. Красный кружок представляет строителей. На пересечении изображены мужчины-строители.\n",
    "\n",
    "Чтобы вычислить долю мужчин-строителей, мы можем вычислить отношение пересечения, которое представляет собой `prob(male & builder)`, к красному кружку, то есть `prob(builder)`."
   ]
  },
  {
   "cell_type": "markdown",
   "metadata": {
    "id": "K330lOKBDxjI"
   },
   "source": [
    "**Упражнение:** Для практики вычислите долю пожилых банкиров двумя способами: используя функцию `conditional` и Теорему 1."
   ]
  },
  {
   "cell_type": "code",
   "execution_count": 28,
   "metadata": {
    "id": "JVdqSA6QDxjI"
   },
   "outputs": [],
   "source": [
    "# Решение здесь"
   ]
  },
  {
   "cell_type": "markdown",
   "metadata": {
    "id": "NSG5cameDxjI"
   },
   "source": [
    "## Теорема 2\n",
    "\n",
    "Снова Теорема 1:\n",
    "\n",
    "$P(A|B) = \\frac{P(A~\\mathrm{and}~B)}{P(B)}$ \n",
    "\n",
    "Если умножить обе части на $P(B)$, получим Теорему 2.\n",
    "\n",
    "$P(A~\\mathrm{and}~B) = P(B) P(A|B)$\n",
    "\n",
    "Эта формула предлагает второй способ вычисления конъюнкции: вместо использования оператора `&` мы можем вычислить произведение двух вероятностей.\n",
    "\n",
    "Посмотрим, сработает ли это для `conservative` (консерваторов) и `republican` (республиканцев). \n",
    "\n",
    "Вот результат с использованием `&`:"
   ]
  },
  {
   "cell_type": "code",
   "execution_count": 29,
   "metadata": {
    "colab": {
     "base_uri": "https://localhost:8080/"
    },
    "id": "3zt0uGeTDxjI",
    "outputId": "2f25f19d-28e5-4db4-bccd-af687ed54f64"
   },
   "outputs": [
    {
     "data": {
      "text/plain": [
       "0.15396632176912153"
      ]
     },
     "execution_count": 29,
     "metadata": {},
     "output_type": "execute_result"
    }
   ],
   "source": [
    "prob(conservative & republican)"
   ]
  },
  {
   "cell_type": "markdown",
   "metadata": {
    "id": "Dw74kAOGDxjI"
   },
   "source": [
    "И вот результат использования Теоремы 2:"
   ]
  },
  {
   "cell_type": "code",
   "execution_count": 30,
   "metadata": {
    "colab": {
     "base_uri": "https://localhost:8080/"
    },
    "id": "ttj3QdMZDxjJ",
    "outputId": "26227b5c-b432-474e-ff35-414aa29e95a6"
   },
   "outputs": [
    {
     "data": {
      "text/plain": [
       "0.1539663217691215"
      ]
     },
     "execution_count": 30,
     "metadata": {},
     "output_type": "execute_result"
    }
   ],
   "source": [
    "prob(republican) * conditional(conservative, republican)"
   ]
  },
  {
   "cell_type": "markdown",
   "metadata": {
    "id": "YKVw-aw2DxjJ"
   },
   "source": [
    "Из-за ошибок с плавающей запятой они могут не совпадать, но почти все цифры одинаковы."
   ]
  },
  {
   "cell_type": "markdown",
   "metadata": {
    "id": "Uqu83EErDxjJ"
   },
   "source": [
    "**Упражнение:** Проверьте Теорему 2 еще раз, вычислив долю респондентов, которые являются пожилыми либералами двумя способами:\n",
    "\n",
    "* с использованием оператора `&`, и\n",
    "\n",
    "* используя Теорему 2.\n",
    "\n",
    "Результаты должны быть такими же или, по крайней мере, очень близкими."
   ]
  },
  {
   "cell_type": "code",
   "execution_count": 31,
   "metadata": {
    "id": "n6b5m98LDxjJ"
   },
   "outputs": [],
   "source": [
    "# Решение здесь"
   ]
  },
  {
   "cell_type": "markdown",
   "metadata": {
    "id": "ulERgDREDxjK"
   },
   "source": [
    "## Конъюнкция коммутативна\n",
    "\n",
    "Мы уже установили, что конъюнкция коммутативна. В математической записи это означает:\n",
    "\n",
    "$P(A~\\mathrm{and}~B) = P(B~\\mathrm{and}~A)$\n",
    "\n",
    "Если применить Теорему 2 к обеим сторонам, мы имеем\n",
    "\n",
    "$P(B) P(A|B) = P(A) P(B|A)$\n",
    "\n",
    "Вот один способ интерпретировать это: если вы хотите проверить $A$ и $B$, вы можете сделать это в любом порядке:\n",
    "\n",
    "1. вы можете сначала проверить $B$, затем $A$ при условии, что $B$, или\n",
    "\n",
    "2. вы можете сначала проверить $A$, затем $B$ при условии, что $A$.\n",
    "\n",
    "Чтобы попробовать, я вычислю долю молодых строителей двумя способами:"
   ]
  },
  {
   "cell_type": "code",
   "execution_count": 32,
   "metadata": {
    "colab": {
     "base_uri": "https://localhost:8080/"
    },
    "id": "M5t1h6qcDxjK",
    "outputId": "a3b50fc1-3f28-459d-ead9-810e77d2ca51"
   },
   "outputs": [
    {
     "data": {
      "text/plain": [
       "0.012314871170622844"
      ]
     },
     "execution_count": 32,
     "metadata": {},
     "output_type": "execute_result"
    }
   ],
   "source": [
    "prob(young) * conditional(builder, young)"
   ]
  },
  {
   "cell_type": "code",
   "execution_count": 33,
   "metadata": {
    "colab": {
     "base_uri": "https://localhost:8080/"
    },
    "id": "UCGLXTssDxjK",
    "outputId": "e9e98189-aedb-4916-da92-ff7f8660f978"
   },
   "outputs": [
    {
     "data": {
      "text/plain": [
       "0.012314871170622844"
      ]
     },
     "execution_count": 33,
     "metadata": {},
     "output_type": "execute_result"
    }
   ],
   "source": [
    "prob(builder) * conditional(young, builder)"
   ]
  },
  {
   "cell_type": "markdown",
   "metadata": {
    "id": "DB0ljGKzDxjK"
   },
   "source": [
    "То же самое!"
   ]
  },
  {
   "cell_type": "markdown",
   "metadata": {
    "id": "iwDoe8pPDxjK"
   },
   "source": [
    "**Упражнение:** Рассчитайте вероятность быть мужчиной-банкиром двумя способами и посмотрите, получите ли вы то же самое."
   ]
  },
  {
   "cell_type": "code",
   "execution_count": 34,
   "metadata": {
    "id": "gwTROcNHDxjK"
   },
   "outputs": [],
   "source": [
    "# Решение здесь"
   ]
  },
  {
   "cell_type": "markdown",
   "metadata": {
    "id": "3KP-eUHpDxjL"
   },
   "source": [
    "## Теорема 3\n",
    "\n",
    "В предыдущем разделе мы установили, что\n",
    "\n",
    "$P(B) P(A|B) = P(A) P(B|A)$\n",
    "\n",
    "Если разделить на $P(B)$, получим Теорему 3:\n",
    "\n",
    "$P(A|B) = \\frac{P(A) P(B|A)}{P(B)}$\n",
    "\n",
    "И это, друзья мои, **теорема Байеса**.\n",
    "\n",
    "Чтобы увидеть, как это работает, попробуем еще одну комбинацию наших утверждений. \n",
    "\n",
    "Давайте вычислим долю либеральных строителей, сначала используя функцию `conditional`:"
   ]
  },
  {
   "cell_type": "code",
   "execution_count": 35,
   "metadata": {
    "colab": {
     "base_uri": "https://localhost:8080/"
    },
    "id": "oj3DsifRDxjL",
    "outputId": "78d5d65b-6fbe-4cc4-c980-681414b55b0b"
   },
   "outputs": [
    {
     "data": {
      "text/plain": [
       "0.24431625381744146"
      ]
     },
     "execution_count": 35,
     "metadata": {},
     "output_type": "execute_result"
    }
   ],
   "source": [
    "conditional(liberal, builder)"
   ]
  },
  {
   "cell_type": "markdown",
   "metadata": {
    "id": "X0zJac2mDxjL"
   },
   "source": [
    "Теперь, используя теорему Байеса:"
   ]
  },
  {
   "cell_type": "code",
   "execution_count": 36,
   "metadata": {
    "colab": {
     "base_uri": "https://localhost:8080/"
    },
    "id": "RoCggwPKDxjM",
    "outputId": "0dd6ec30-99a4-47a1-faae-6d805d640096"
   },
   "outputs": [
    {
     "data": {
      "text/plain": [
       "0.24431625381744151"
      ]
     },
     "execution_count": 36,
     "metadata": {},
     "output_type": "execute_result"
    }
   ],
   "source": [
    "prob(liberal) * conditional(builder, liberal) / prob(builder)"
   ]
  },
  {
   "cell_type": "markdown",
   "metadata": {
    "id": "xOYdYdq_DxjM"
   },
   "source": [
    "То же самое!"
   ]
  },
  {
   "cell_type": "markdown",
   "metadata": {
    "id": "M2VgDGCFDxjM"
   },
   "source": [
    "**Упражнение:** Попробуйте сами! Вычислите долю молодых людей, которые являются республиканцами, двумя способами: используя функцию `conditional` и теорему Байеса. Посмотрите, получите ли вы то же самое."
   ]
  },
  {
   "cell_type": "code",
   "execution_count": 37,
   "metadata": {
    "colab": {
     "base_uri": "https://localhost:8080/"
    },
    "id": "VvaVxyRHDxjN",
    "outputId": "06457632-ebe3-4ad5-819a-960e6ebecb29"
   },
   "outputs": [
    {
     "data": {
      "text/plain": [
       "0.23319415448851774"
      ]
     },
     "execution_count": 37,
     "metadata": {},
     "output_type": "execute_result"
    }
   ],
   "source": [
    "conditional(republican, young)"
   ]
  },
  {
   "cell_type": "code",
   "execution_count": 38,
   "metadata": {
    "colab": {
     "base_uri": "https://localhost:8080/"
    },
    "id": "Uc8lCosXDxjN",
    "outputId": "1189e6bc-12c6-4c4d-8c72-da37f835c310"
   },
   "outputs": [
    {
     "data": {
      "text/plain": [
       "0.2331941544885177"
      ]
     },
     "execution_count": 38,
     "metadata": {},
     "output_type": "execute_result"
    }
   ],
   "source": [
    "prob(republican) * conditional(young, republican) / prob(young)"
   ]
  },
  {
   "cell_type": "markdown",
   "metadata": {
    "id": "i7H-ARshDxjN"
   },
   "source": [
    "## Резюме\n",
    "\n",
    "Вот что у нас есть на данный момент:\n",
    "\n",
    "**Теорема 1** дает нам новый способ вычисления условной вероятности с помощью конъюнкции:\n",
    "\n",
    "$P(A|B) = \\frac{P(A~\\mathrm{and}~B)}{P(B)}$ \n",
    "\n",
    "**Теорема 2** дает нам новый способ вычисления конъюнкции с использованием условной вероятности:\n",
    "\n",
    "$P(A~\\mathrm{and}~B) = P(B) P(A|B)$\n",
    "\n",
    "**Теорема 3**, также известная как теорема Байеса, дает нам способ перейти от $P(A|B)$ к $P(B|A)$ или наоборот:\n",
    "\n",
    "$P(A|B) = \\frac{P(A) P(B|A)}{P(B)}$\n",
    "\n",
    "Но тут вы можете спросить: \"И что?\" Если у нас есть все данные, мы можем вычислить любую желаемую вероятность, любую конъюнкцию или любую условную вероятность, просто подсчитав. Зачем нужны эти формулы?\n",
    "\n",
    "И вы правы, *если* у нас есть все данные. Но часто мы этого не делаем, и в этом случае эти формулы могут быть очень полезны - особенно теорема Байеса.\n",
    "\n",
    "В следующей записной книжке мы увидим, как это сделать."
   ]
  },
  {
   "cell_type": "markdown",
   "metadata": {
    "id": "ND3KXYdlDxjN"
   },
   "source": [
    "<a href=\"https://t.me/init_python\"><img src=\"https://dfedorov.spb.ru/pandas/logo-telegram.png\" width=\"35\" height=\"35\" alt=\"telegram\" align=\"left\"></a>"
   ]
  }
 ],
 "metadata": {
  "colab": {
   "collapsed_sections": [
    "eSv78HYnDxi8"
   ],
   "name": "Перевод \"02_bayes.ipynb\"",
   "provenance": []
  },
  "kernelspec": {
   "display_name": "Python 3",
   "language": "python",
   "name": "python3"
  },
  "language_info": {
   "codemirror_mode": {
    "name": "ipython",
    "version": 3
   },
   "file_extension": ".py",
   "mimetype": "text/x-python",
   "name": "python",
   "nbconvert_exporter": "python",
   "pygments_lexer": "ipython3",
   "version": "3.8.2"
  }
 },
 "nbformat": 4,
 "nbformat_minor": 4
}
